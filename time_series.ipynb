{
 "cells": [
  {
   "cell_type": "markdown",
   "metadata": {},
   "source": [
    " <div class=\"alert alert-success\" style=\"border-color: green; border-radius: 5px\">\n",
    "    <font color='green'> <b><u>КОММЕНТАРИЙ РЕВЬЮЕРА</u></b>\n",
    "\n",
    "Дарья, доброго дня! рад приветствовать тебя вновь) <br />\n",
    "<br />\n",
    "Меня зовут Николай Шавлюго. <br />И на этом этапе твоего движения к новой профессии от меня будут комментарии по написанному коду. <br />Чтобы меньше \"мусорить эфир\" и чтобы максимально наглядно отделяться от основного кода, есть предложение условиться в некоторых обозначениях:<br /> <br />\n",
    "<u><b>ТАКОЙ ШРИФТ</b></u> - всегда начало комментария <br />\n",
    "<font color='green'>такой шрифт</font> - комментарии о том, что всё ОК <br/>\n",
    "<font color='orange'>такой шрифт</font> - комментарии о том, что всё ОК по результату,<br> однако есть на что обратить внимание в плане применения техник, или есть способы сделать более короткий или быстрый код <br/>\n",
    "<font color='red'>такой шрифт</font> - комментарии о том, что есть критичный момент, влияющий на бизнес-результат проекта.<br/>\n",
    "</font><br /><br />\n",
    "<font color='green'>Моей целью является не \"уличить\" в не знании, а просто высказать сверху твоих знаний - свой опыт, что бы тебе использовать его для своего дальнейшего успеха) И очень здорово будет, если удастся задавать вопросы, да и вообще - всячески доставать меня, если я по каким-то причинам не приму проект:) При этом, из своего опыта скажу, хорошо и важно, когда переписка ревьюера и студента - сохраняется на следующие проекты и даже на будущую практическую деятельность.<br>\n",
    "<BR> В ПУТЬ!<br></div>"
   ]
  },
  {
   "cell_type": "code",
   "execution_count": null,
   "metadata": {},
   "outputs": [],
   "source": []
  },
  {
   "cell_type": "markdown",
   "metadata": {},
   "source": [
    "<div class=\"alert alert-success\" style=\"border-color: green; border-radius: 5px\">\n",
    "    <p><u><b>✅ КОММЕНТАРИЙ РЕВЬЮЕРА 2</b></u></p>\n",
    "    Привет, Дарья!<br>\n",
    "    ОК, увидел твои доработки и комментарии. Хорошо ещё удалось поработать.<br>\n",
    "Единственное - ошибка модели = 0 у тебя получилось. Такого в жизни НЕ БЫВАЕТ!!!!<br>\n",
    "В этом проекте - всё дело в факторах. Посмотри, пожалуйсат - я закоментил три из твоих. Их лучше не использовать. ОСОБЕННО - остатки (residal). Именно из-за последних мы имели ошибочную моедль. Теперь всё считает как надо. <br>\n",
    "    \n",
    "Буду ждать твоих комментариев!"
   ]
  },
  {
   "cell_type": "markdown",
   "metadata": {},
   "source": [
    "<div class=\"alert alert-info\"> \n",
    "<b> Комментарий студентки: </b> \n",
    "Увидела закомменченное. Про остатки в принципе понятно, а почему не надо добавлять день и прочее? И спасибо за такую прекрасную проверку!\n",
    "</div>"
   ]
  },
  {
   "cell_type": "markdown",
   "metadata": {},
   "source": [
    "<div class=\"alert alert-success\" style=\"border-color: green; border-radius: 5px\">\n",
    "    <p><u><b>✅ КОММЕНТАРИЙ РЕВЬЮЕРА 2</b></u></p>\n",
    "Привет, Дарья!<br>\n",
    "Про месяц: у нас в истории всего один март, май.... т.е. не хватет, чтобы адекватно оценить месячную сезонность. Да и горизоно прогноза - часы. Поэтому сезонность времени года будет просто в тренде уже заложена.<br>\n",
    "Если нам брать горизонт прогноза месяц или два , то фактор месяц - очень важне  это факт. А если брать горизонт прогноза несколько часов, то фактор времени года - на таком отрезке времени и не заметен. К тому же, он уже присутствует в тренде (скользящем среднем). Т.е. его участие локально как бы и есть.<br>\n",
    "\n",
    "То, что сейчас месяц может увеличивать точность - это случайно. Он ведь представлен как числа от 1 до 8 и ещё есть тренд, как раз. Т.е. произошло наложение тренда и номера месяца. А вот если продажи буду уходить вниз (или перестанут расти), а мы будем продолжать пользовться моделью, то модель будет предсказывать рост на сентябрь (цифра 9), на октябпрь (цифра 10)... т.е. чиссто числовая тенденция)<br>\n",
    "    \n",
    "Поэтому, рекомендация для будущих проетов на эту тему:<br>\n",
    "Учитывать горизонт прогноза: если задача стоит среднесрочного и долгосрочного прогноза, то месяц нам в помощь (при этом данных должно быть не меннее 2-х / 3-х лет). Если задача краткосрочного прогнозирования - месяц не надо использовать, он уже в тренде заложен.\n",
    "\n",
    "Про день:<br>\n",
    "Это просто последовательность чисел. Если говорить об учесть начало и конец месяца (или другие периоды/события месяца) - то можно реализовать так: создать новый столбец из 0 и 1. Где 1 промаркеровать те даты (события), которые хотим включить, как факторы. А 0 - остальные дни.\n",
    "    \n",
    "Тут много ещё что хотелось бы сказать по самой теме...<br>\n",
    "Если будет возможность тебе однозначно интересно посмотреть разные практические истории вот здесь:<br>\n",
    "https://ibf.org/knowledge - заморский институт бизнес-прогнозирования.<br>\n",
    "Там и статьи можно накопать, и методы посмомтерть...<br>\n",
    "\n",
    "Есть классический труд (он НЕ ML, а исключительно на эксель). Но для понимания сути временных рядов - то, что надо:<br>\n",
    "УИЧЕРН \"Бизнес-прогнозирование\"<br>\n",
    "\n",
    "Идеологически по системе прогнозирования, интересно почитать<br>\n",
    "ТОМАС УОЛЛАС, Р. СТАЛЬ \"планирование продаж и операций\" SO&P<br><br>     \n",
    "\n",
    "СПАСИБО за отклик!<br>\n",
    "Рад, что смог помочь подразобраться с этой темой.<br>\n",
    "\n",
    "Спасибо за проект)<br>\n",
    "УСПЕШНОГО ДАЛЬНЕЙШЕГО ОБЧЕНИЯ!</div></div>    "
   ]
  },
  {
   "cell_type": "code",
   "execution_count": null,
   "metadata": {},
   "outputs": [],
   "source": []
  },
  {
   "cell_type": "markdown",
   "metadata": {
    "toc": true
   },
   "source": [
    "<h1>Содержание<span class=\"tocSkip\"></span></h1>\n",
    "<div class=\"toc\"><ul class=\"toc-item\"><li><span><a href=\"#Подготовка\" data-toc-modified-id=\"Подготовка-1\"><span class=\"toc-item-num\">1&nbsp;&nbsp;</span>Подготовка</a></span></li><li><span><a href=\"#Анализ\" data-toc-modified-id=\"Анализ-2\"><span class=\"toc-item-num\">2&nbsp;&nbsp;</span>Анализ</a></span></li><li><span><a href=\"#Обучение\" data-toc-modified-id=\"Обучение-3\"><span class=\"toc-item-num\">3&nbsp;&nbsp;</span>Обучение</a></span><ul class=\"toc-item\"><li><span><a href=\"#Регрессионное-дерево-решений\" data-toc-modified-id=\"Регрессионное-дерево-решений-3.1\"><span class=\"toc-item-num\">3.1&nbsp;&nbsp;</span>Регрессионное дерево решений</a></span></li><li><span><a href=\"#Регрессионный-лес-решений\" data-toc-modified-id=\"Регрессионный-лес-решений-3.2\"><span class=\"toc-item-num\">3.2&nbsp;&nbsp;</span>Регрессионный лес решений</a></span></li><li><span><a href=\"#Линейная-регрессия\" data-toc-modified-id=\"Линейная-регрессия-3.3\"><span class=\"toc-item-num\">3.3&nbsp;&nbsp;</span>Линейная регрессия</a></span></li><li><span><a href=\"#Градиентный-бустинг-регрессии\" data-toc-modified-id=\"Градиентный-бустинг-регрессии-3.4\"><span class=\"toc-item-num\">3.4&nbsp;&nbsp;</span>Градиентный бустинг регрессии</a></span></li><li><span><a href=\"#Выбор-модели\" data-toc-modified-id=\"Выбор-модели-3.5\"><span class=\"toc-item-num\">3.5&nbsp;&nbsp;</span>Выбор модели</a></span></li></ul></li><li><span><a href=\"#Тестирование\" data-toc-modified-id=\"Тестирование-4\"><span class=\"toc-item-num\">4&nbsp;&nbsp;</span>Тестирование</a></span></li><li><span><a href=\"#Вывод\" data-toc-modified-id=\"Вывод-5\"><span class=\"toc-item-num\">5&nbsp;&nbsp;</span>Вывод</a></span></li><li><span><a href=\"#Чек-лист-проверки\" data-toc-modified-id=\"Чек-лист-проверки-6\"><span class=\"toc-item-num\">6&nbsp;&nbsp;</span>Чек-лист проверки</a></span></li></ul></div>"
   ]
  },
  {
   "cell_type": "markdown",
   "metadata": {},
   "source": [
    "#  Прогнозирование заказов такси"
   ]
  },
  {
   "cell_type": "markdown",
   "metadata": {},
   "source": [
    "Компания «Чётенькое такси» собрала исторические данные о заказах такси в аэропортах. Чтобы привлекать больше водителей в период пиковой нагрузки, нужно спрогнозировать количество заказов такси на следующий час. Постройте модель для такого предсказания.\n",
    "\n",
    "Значение метрики *RMSE* на тестовой выборке должно быть не больше 48.\n",
    "\n",
    "Вам нужно:\n",
    "\n",
    "1. Загрузить данные и выполнить их ресемплирование по одному часу.\n",
    "2. Проанализировать данные.\n",
    "3. Обучить разные модели с различными гиперпараметрами. Сделать тестовую выборку размером 10% от исходных данных.\n",
    "4. Проверить данные на тестовой выборке и сделать выводы.\n",
    "\n",
    "\n",
    "Данные лежат в файле `taxi.csv`. Количество заказов находится в столбце `num_orders` (от англ. *number of orders*, «число заказов»)."
   ]
  },
  {
   "cell_type": "markdown",
   "metadata": {},
   "source": [
    "## Подготовка"
   ]
  },
  {
   "cell_type": "code",
   "execution_count": 1,
   "metadata": {},
   "outputs": [],
   "source": [
    "# импортирование библиотек\n",
    "import pandas as pd\n",
    "import numpy as np\n",
    "from statsmodels.tsa.seasonal import seasonal_decompose\n",
    "import matplotlib.pyplot as plt\n",
    "\n",
    "from lightgbm import LGBMRegressor\n",
    "\n",
    "from sklearn.ensemble import RandomForestRegressor\n",
    "from sklearn.linear_model import LinearRegression\n",
    "from sklearn.metrics import mean_squared_error\n",
    "from sklearn.model_selection import train_test_split\n",
    "from sklearn.tree import DecisionTreeRegressor"
   ]
  },
  {
   "cell_type": "code",
   "execution_count": 2,
   "metadata": {},
   "outputs": [
    {
     "data": {
      "text/html": [
       "<div>\n",
       "<style scoped>\n",
       "    .dataframe tbody tr th:only-of-type {\n",
       "        vertical-align: middle;\n",
       "    }\n",
       "\n",
       "    .dataframe tbody tr th {\n",
       "        vertical-align: top;\n",
       "    }\n",
       "\n",
       "    .dataframe thead th {\n",
       "        text-align: right;\n",
       "    }\n",
       "</style>\n",
       "<table border=\"1\" class=\"dataframe\">\n",
       "  <thead>\n",
       "    <tr style=\"text-align: right;\">\n",
       "      <th></th>\n",
       "      <th>datetime</th>\n",
       "      <th>num_orders</th>\n",
       "    </tr>\n",
       "  </thead>\n",
       "  <tbody>\n",
       "    <tr>\n",
       "      <th>0</th>\n",
       "      <td>2018-03-01 00:00:00</td>\n",
       "      <td>9</td>\n",
       "    </tr>\n",
       "    <tr>\n",
       "      <th>1</th>\n",
       "      <td>2018-03-01 00:10:00</td>\n",
       "      <td>14</td>\n",
       "    </tr>\n",
       "    <tr>\n",
       "      <th>2</th>\n",
       "      <td>2018-03-01 00:20:00</td>\n",
       "      <td>28</td>\n",
       "    </tr>\n",
       "    <tr>\n",
       "      <th>3</th>\n",
       "      <td>2018-03-01 00:30:00</td>\n",
       "      <td>20</td>\n",
       "    </tr>\n",
       "    <tr>\n",
       "      <th>4</th>\n",
       "      <td>2018-03-01 00:40:00</td>\n",
       "      <td>32</td>\n",
       "    </tr>\n",
       "    <tr>\n",
       "      <th>5</th>\n",
       "      <td>2018-03-01 00:50:00</td>\n",
       "      <td>21</td>\n",
       "    </tr>\n",
       "    <tr>\n",
       "      <th>6</th>\n",
       "      <td>2018-03-01 01:00:00</td>\n",
       "      <td>7</td>\n",
       "    </tr>\n",
       "    <tr>\n",
       "      <th>7</th>\n",
       "      <td>2018-03-01 01:10:00</td>\n",
       "      <td>5</td>\n",
       "    </tr>\n",
       "    <tr>\n",
       "      <th>8</th>\n",
       "      <td>2018-03-01 01:20:00</td>\n",
       "      <td>17</td>\n",
       "    </tr>\n",
       "    <tr>\n",
       "      <th>9</th>\n",
       "      <td>2018-03-01 01:30:00</td>\n",
       "      <td>12</td>\n",
       "    </tr>\n",
       "  </tbody>\n",
       "</table>\n",
       "</div>"
      ],
      "text/plain": [
       "              datetime  num_orders\n",
       "0  2018-03-01 00:00:00           9\n",
       "1  2018-03-01 00:10:00          14\n",
       "2  2018-03-01 00:20:00          28\n",
       "3  2018-03-01 00:30:00          20\n",
       "4  2018-03-01 00:40:00          32\n",
       "5  2018-03-01 00:50:00          21\n",
       "6  2018-03-01 01:00:00           7\n",
       "7  2018-03-01 01:10:00           5\n",
       "8  2018-03-01 01:20:00          17\n",
       "9  2018-03-01 01:30:00          12"
      ]
     },
     "execution_count": 2,
     "metadata": {},
     "output_type": "execute_result"
    }
   ],
   "source": [
    "# чтение данных из файла\n",
    "data = pd.read_csv('/datasets/taxi.csv')\n",
    "# просмотр первых десяти строчек в датафрейме \n",
    "data.head(10)"
   ]
  },
  {
   "cell_type": "code",
   "execution_count": 3,
   "metadata": {},
   "outputs": [
    {
     "name": "stdout",
     "output_type": "stream",
     "text": [
      "<class 'pandas.core.frame.DataFrame'>\n",
      "RangeIndex: 26496 entries, 0 to 26495\n",
      "Data columns (total 2 columns):\n",
      " #   Column      Non-Null Count  Dtype \n",
      "---  ------      --------------  ----- \n",
      " 0   datetime    26496 non-null  object\n",
      " 1   num_orders  26496 non-null  int64 \n",
      "dtypes: int64(1), object(1)\n",
      "memory usage: 414.1+ KB\n"
     ]
    }
   ],
   "source": [
    "# вывод информации о датафрейме\n",
    "data.info()"
   ]
  },
  {
   "cell_type": "code",
   "execution_count": 4,
   "metadata": {},
   "outputs": [
    {
     "data": {
      "text/plain": [
       "datetime      0\n",
       "num_orders    0\n",
       "dtype: int64"
      ]
     },
     "execution_count": 4,
     "metadata": {},
     "output_type": "execute_result"
    }
   ],
   "source": [
    "# подсчет пропусков\n",
    "data.isna().sum()"
   ]
  },
  {
   "cell_type": "code",
   "execution_count": 5,
   "metadata": {},
   "outputs": [
    {
     "name": "stdout",
     "output_type": "stream",
     "text": [
      "0\n"
     ]
    }
   ],
   "source": [
    "# подсчёт явных дубликатов\n",
    "print(data.duplicated().sum())"
   ]
  },
  {
   "cell_type": "code",
   "execution_count": 6,
   "metadata": {},
   "outputs": [
    {
     "data": {
      "text/html": [
       "<div>\n",
       "<style scoped>\n",
       "    .dataframe tbody tr th:only-of-type {\n",
       "        vertical-align: middle;\n",
       "    }\n",
       "\n",
       "    .dataframe tbody tr th {\n",
       "        vertical-align: top;\n",
       "    }\n",
       "\n",
       "    .dataframe thead th {\n",
       "        text-align: right;\n",
       "    }\n",
       "</style>\n",
       "<table border=\"1\" class=\"dataframe\">\n",
       "  <thead>\n",
       "    <tr style=\"text-align: right;\">\n",
       "      <th></th>\n",
       "      <th>num_orders</th>\n",
       "    </tr>\n",
       "  </thead>\n",
       "  <tbody>\n",
       "    <tr>\n",
       "      <th>count</th>\n",
       "      <td>26496.000000</td>\n",
       "    </tr>\n",
       "    <tr>\n",
       "      <th>mean</th>\n",
       "      <td>14.070463</td>\n",
       "    </tr>\n",
       "    <tr>\n",
       "      <th>std</th>\n",
       "      <td>9.211330</td>\n",
       "    </tr>\n",
       "    <tr>\n",
       "      <th>min</th>\n",
       "      <td>0.000000</td>\n",
       "    </tr>\n",
       "    <tr>\n",
       "      <th>25%</th>\n",
       "      <td>8.000000</td>\n",
       "    </tr>\n",
       "    <tr>\n",
       "      <th>50%</th>\n",
       "      <td>13.000000</td>\n",
       "    </tr>\n",
       "    <tr>\n",
       "      <th>75%</th>\n",
       "      <td>19.000000</td>\n",
       "    </tr>\n",
       "    <tr>\n",
       "      <th>max</th>\n",
       "      <td>119.000000</td>\n",
       "    </tr>\n",
       "  </tbody>\n",
       "</table>\n",
       "</div>"
      ],
      "text/plain": [
       "         num_orders\n",
       "count  26496.000000\n",
       "mean      14.070463\n",
       "std        9.211330\n",
       "min        0.000000\n",
       "25%        8.000000\n",
       "50%       13.000000\n",
       "75%       19.000000\n",
       "max      119.000000"
      ]
     },
     "execution_count": 6,
     "metadata": {},
     "output_type": "execute_result"
    }
   ],
   "source": [
    "# описание данных\n",
    "data.describe()"
   ]
  },
  {
   "cell_type": "code",
   "execution_count": 7,
   "metadata": {},
   "outputs": [
    {
     "data": {
      "text/html": [
       "<div>\n",
       "<style scoped>\n",
       "    .dataframe tbody tr th:only-of-type {\n",
       "        vertical-align: middle;\n",
       "    }\n",
       "\n",
       "    .dataframe tbody tr th {\n",
       "        vertical-align: top;\n",
       "    }\n",
       "\n",
       "    .dataframe thead th {\n",
       "        text-align: right;\n",
       "    }\n",
       "</style>\n",
       "<table border=\"1\" class=\"dataframe\">\n",
       "  <thead>\n",
       "    <tr style=\"text-align: right;\">\n",
       "      <th></th>\n",
       "      <th>num_orders</th>\n",
       "    </tr>\n",
       "    <tr>\n",
       "      <th>datetime</th>\n",
       "      <th></th>\n",
       "    </tr>\n",
       "  </thead>\n",
       "  <tbody>\n",
       "    <tr>\n",
       "      <th>2018-03-01 00:00:00</th>\n",
       "      <td>9</td>\n",
       "    </tr>\n",
       "    <tr>\n",
       "      <th>2018-03-01 00:10:00</th>\n",
       "      <td>14</td>\n",
       "    </tr>\n",
       "    <tr>\n",
       "      <th>2018-03-01 00:20:00</th>\n",
       "      <td>28</td>\n",
       "    </tr>\n",
       "    <tr>\n",
       "      <th>2018-03-01 00:30:00</th>\n",
       "      <td>20</td>\n",
       "    </tr>\n",
       "    <tr>\n",
       "      <th>2018-03-01 00:40:00</th>\n",
       "      <td>32</td>\n",
       "    </tr>\n",
       "    <tr>\n",
       "      <th>...</th>\n",
       "      <td>...</td>\n",
       "    </tr>\n",
       "    <tr>\n",
       "      <th>2018-08-31 23:10:00</th>\n",
       "      <td>32</td>\n",
       "    </tr>\n",
       "    <tr>\n",
       "      <th>2018-08-31 23:20:00</th>\n",
       "      <td>24</td>\n",
       "    </tr>\n",
       "    <tr>\n",
       "      <th>2018-08-31 23:30:00</th>\n",
       "      <td>27</td>\n",
       "    </tr>\n",
       "    <tr>\n",
       "      <th>2018-08-31 23:40:00</th>\n",
       "      <td>39</td>\n",
       "    </tr>\n",
       "    <tr>\n",
       "      <th>2018-08-31 23:50:00</th>\n",
       "      <td>53</td>\n",
       "    </tr>\n",
       "  </tbody>\n",
       "</table>\n",
       "<p>26496 rows × 1 columns</p>\n",
       "</div>"
      ],
      "text/plain": [
       "                     num_orders\n",
       "datetime                       \n",
       "2018-03-01 00:00:00           9\n",
       "2018-03-01 00:10:00          14\n",
       "2018-03-01 00:20:00          28\n",
       "2018-03-01 00:30:00          20\n",
       "2018-03-01 00:40:00          32\n",
       "...                         ...\n",
       "2018-08-31 23:10:00          32\n",
       "2018-08-31 23:20:00          24\n",
       "2018-08-31 23:30:00          27\n",
       "2018-08-31 23:40:00          39\n",
       "2018-08-31 23:50:00          53\n",
       "\n",
       "[26496 rows x 1 columns]"
      ]
     },
     "execution_count": 7,
     "metadata": {},
     "output_type": "execute_result"
    }
   ],
   "source": [
    "# изменение типа столбца на datetime и установление этого столбца как индекса\n",
    "data['datetime'] = pd.to_datetime(data['datetime'], format='%Y-%m-%d %H:%M:%S')\n",
    "data = data.set_index('datetime')\n",
    "data"
   ]
  },
  {
   "cell_type": "code",
   "execution_count": 8,
   "metadata": {},
   "outputs": [
    {
     "name": "stdout",
     "output_type": "stream",
     "text": [
      "True\n"
     ]
    }
   ],
   "source": [
    "# сортировка по индексу и проверка\n",
    "data = data.sort_index()\n",
    "print(data.index.is_monotonic)"
   ]
  },
  {
   "cell_type": "code",
   "execution_count": 9,
   "metadata": {},
   "outputs": [],
   "source": [
    "# ресемплинг по одному часу\n",
    "data = data.resample('1H').sum()"
   ]
  },
  {
   "cell_type": "markdown",
   "metadata": {},
   "source": [
    "<div class=\"alert alert-success\" style=\"border-color: green; border-radius: 5px\">\n",
    "    <p><u><b>✅ КОММЕНТАРИЙ РЕВЬЮЕРА 2</b></u></p>ОК, данные на базе"
   ]
  },
  {
   "cell_type": "markdown",
   "metadata": {},
   "source": [
    "## Анализ"
   ]
  },
  {
   "cell_type": "code",
   "execution_count": 10,
   "metadata": {},
   "outputs": [
    {
     "data": {
      "image/png": "[encoded data removed]",
      "text/plain": [
       "<Figure size 432x288 with 1 Axes>"
      ]
     },
     "metadata": {
      "needs_background": "light"
     },
     "output_type": "display_data"
    }
   ],
   "source": [
    "data.plot();"
   ]
  },
  {
   "cell_type": "markdown",
   "metadata": {},
   "source": [
    "Из графика очевидно, что количество заказов растет. Однако есть характерные выбросы ближе к концу апреля, что связано с весенними школьными каникулами; в начале мая из-за майских праздников; в конце мая из-за надвигающихся летних школьных каникул; ближе к концу августа, что связано с наступающим учебным годом."
   ]
  },
  {
   "cell_type": "code",
   "execution_count": 11,
   "metadata": {},
   "outputs": [
    {
     "data": {
      "image/png": "[encoded data removed]",
      "text/plain": [
       "<Figure size 432x288 with 1 Axes>"
      ]
     },
     "metadata": {
      "needs_background": "light"
     },
     "output_type": "display_data"
    }
   ],
   "source": [
    "data['rolling_mean'] = data['num_orders'].rolling(10).mean()\n",
    "data['mean'] = data['num_orders'].rolling(10).mean()\n",
    "data['std'] = data['num_orders'].rolling(10).std()\n",
    "data.plot();"
   ]
  },
  {
   "cell_type": "code",
   "execution_count": 12,
   "metadata": {},
   "outputs": [
    {
     "data": {
      "image/png": "[encoded data removed]",
      "text/plain": [
       "<Figure size 432x576 with 2 Axes>"
      ]
     },
     "metadata": {
      "needs_background": "light"
     },
     "output_type": "display_data"
    }
   ],
   "source": [
    "plt.figure(figsize=(6, 8))\n",
    "plt.subplot(311)\n",
    "data['mean'].plot()\n",
    "plt.title('mean')\n",
    "plt.subplot(312)\n",
    "data['rolling_mean'].plot();\n",
    "plt.title('rolling_mean')\n",
    "plt.tight_layout();"
   ]
  },
  {
   "cell_type": "markdown",
   "metadata": {},
   "source": [
    "Хотя стандартное отклонение остается неизменным, временной ряд является нестационарным, так как среднее значение растет. Чтобы ряд сделать стационарным, найдём разности его значений."
   ]
  },
  {
   "cell_type": "code",
   "execution_count": 13,
   "metadata": {
    "scrolled": false
   },
   "outputs": [
    {
     "data": {
      "image/png": "[encoded data removed]",
      "text/plain": [
       "<Figure size 432x288 with 1 Axes>"
      ]
     },
     "metadata": {
      "needs_background": "light"
     },
     "output_type": "display_data"
    }
   ],
   "source": [
    "data = data.drop(['rolling_mean', 'mean', 'std'], axis=1)\n",
    "data = data - data.shift(fill_value=0)\n",
    "data['mean'] = data['num_orders'].rolling(15).mean()\n",
    "data['std'] = data['num_orders'].rolling(15).std()\n",
    "data.plot();"
   ]
  },
  {
   "cell_type": "markdown",
   "metadata": {},
   "source": [
    "Временной ряд стал стационарным. "
   ]
  },
  {
   "cell_type": "markdown",
   "metadata": {},
   "source": [
    "<div class=\"alert alert-success\" style=\"border-color: green; border-radius: 5px\">\n",
    "    <p><u><b>✅ КОММЕНТАРИЙ РЕВЬЮЕРА</b></u></p>\n",
    "ОК, есть три вида нестационарности: тренд, сезонность, непостоянство дисперсии)<br>\n",
    "Стационарный ряд - это когда ничего из перечисленного в ряде не наблюдается (очистили его). Нужно это для одного из методов прогрнозироваия АРИМА, например. Для нашегго метода прогнозирования (регрессия) это понятие можно не использовать.</div>"
   ]
  },
  {
   "cell_type": "code",
   "execution_count": null,
   "metadata": {},
   "outputs": [],
   "source": []
  },
  {
   "cell_type": "markdown",
   "metadata": {},
   "source": [
    "<div class=\"alert alert-success\" style=\"border-color: green; border-radius: 5px\">\n",
    "    <p><u><b>✅ КОММЕНТАРИЙ РЕВЬЮЕРА</b></u></p>\n",
    "    <p>\n",
    "Исследование - понятно.<font color='red'><br> Не хватает исслдеования тренда и сезонности, seasonal_decompose. Сделай, пожалуйста<br><font color='green'><br>\n",
    "Инструмент декомпозиции в частности, а графический анализ временных рядов как в принципе - важный этап моделирования рядов.<br> Позволяет увидеть продажи визуально, а это помогает сделать предвариетльные выводы<br>\n",
    "    \n",
    "Хочу озвучить ещё такой момент<br>\n",
    "В реальности бизнеса есть все три вида сезонности:<br>\n",
    "1) дневная сезонность -  данные собраны по дням, т.е. будни и выходные имеют разные продажи<br>\n",
    "2) внутрисуточная сезонность: когда продажи утром отличаются от продаж вечером <br>\n",
    "3) месячная сезонность: когда продажи лета и осени - разные.<br><br>\n",
    "И если строить прогноз на длительный период времени, то без учёта всех видов сезонности  - не обойтись<br>\n",
    "Например: есть в данных восходящий тренд. Но вопрос такой возникает: <br>\n",
    "этот подъём действительно за счёт роста компании (чаще всего тренд - это отражение роста компании) или есть ещё влияние месячной сезнности? (летом - продаж в рост, например, и именно этот момент мы наблюдаем в данных)<br>\n",
    "Ответ на вопрос - не протой на имеющихся данных - у нас данных меньше года. А это означает, что месячную сезонность нам не просто вычислить адекватно - т.е. не внести в модель корректтировки месяцев(<br>\n",
    "Поэтому, я бы дал такой совет:<br>\n",
    "на горизонте прогнозирования - несколько часов или дней - можно предположить что у нас тренд.<br>\n",
    "А если строить прогноз на несколько недель - вот тут утверждать наличие тренда надо с большой осторожностью))))<br><br>\n",
    "Ну, а если вернуться к постановке задаче - построить прогноз на час (очень маленький горизонт), то двух сезонности может и хватить."
   ]
  },
  {
   "cell_type": "code",
   "execution_count": 14,
   "metadata": {},
   "outputs": [
    {
     "data": {
      "image/png": "[encoded data removed]",
      "text/plain": [
       "<Figure size 432x576 with 3 Axes>"
      ]
     },
     "metadata": {
      "needs_background": "light"
     },
     "output_type": "display_data"
    }
   ],
   "source": [
    "data = data.drop(['mean', 'std'], axis=1)\n",
    "decomposed = seasonal_decompose(data)\n",
    "\n",
    "plt.figure(figsize=(6, 8))\n",
    "plt.subplot(311)\n",
    "decomposed.trend.plot(ax=plt.gca())\n",
    "plt.title('Trend')\n",
    "plt.subplot(312)\n",
    "decomposed.seasonal.plot(ax=plt.gca())\n",
    "plt.title('Seasonality')\n",
    "plt.subplot(313)\n",
    "decomposed.resid.plot(ax=plt.gca())\n",
    "plt.title('Residuals')\n",
    "plt.tight_layout()"
   ]
  },
  {
   "cell_type": "code",
   "execution_count": 15,
   "metadata": {},
   "outputs": [
    {
     "data": {
      "text/html": [
       "<div>\n",
       "<style scoped>\n",
       "    .dataframe tbody tr th:only-of-type {\n",
       "        vertical-align: middle;\n",
       "    }\n",
       "\n",
       "    .dataframe tbody tr th {\n",
       "        vertical-align: top;\n",
       "    }\n",
       "\n",
       "    .dataframe thead th {\n",
       "        text-align: right;\n",
       "    }\n",
       "</style>\n",
       "<table border=\"1\" class=\"dataframe\">\n",
       "  <thead>\n",
       "    <tr style=\"text-align: right;\">\n",
       "      <th></th>\n",
       "      <th>num_orders</th>\n",
       "      <th>trend</th>\n",
       "      <th>seasonal</th>\n",
       "      <th>dayofweek</th>\n",
       "      <th>rolling_mean</th>\n",
       "      <th>lag_1</th>\n",
       "      <th>lag_2</th>\n",
       "      <th>lag_3</th>\n",
       "      <th>lag_4</th>\n",
       "      <th>lag_5</th>\n",
       "      <th>lag_6</th>\n",
       "      <th>lag_7</th>\n",
       "      <th>lag_8</th>\n",
       "      <th>lag_9</th>\n",
       "    </tr>\n",
       "    <tr>\n",
       "      <th>datetime</th>\n",
       "      <th></th>\n",
       "      <th></th>\n",
       "      <th></th>\n",
       "      <th></th>\n",
       "      <th></th>\n",
       "      <th></th>\n",
       "      <th></th>\n",
       "      <th></th>\n",
       "      <th></th>\n",
       "      <th></th>\n",
       "      <th></th>\n",
       "      <th></th>\n",
       "      <th></th>\n",
       "      <th></th>\n",
       "    </tr>\n",
       "  </thead>\n",
       "  <tbody>\n",
       "    <tr>\n",
       "      <th>2018-03-01 12:00:00</th>\n",
       "      <td>-66</td>\n",
       "      <td>0.500000</td>\n",
       "      <td>-14.806319</td>\n",
       "      <td>3</td>\n",
       "      <td>20.666667</td>\n",
       "      <td>32.0</td>\n",
       "      <td>-5.0</td>\n",
       "      <td>35.0</td>\n",
       "      <td>19.0</td>\n",
       "      <td>3.0</td>\n",
       "      <td>6.0</td>\n",
       "      <td>-37.0</td>\n",
       "      <td>-23.0</td>\n",
       "      <td>-5.0</td>\n",
       "    </tr>\n",
       "    <tr>\n",
       "      <th>2018-03-01 13:00:00</th>\n",
       "      <td>2</td>\n",
       "      <td>0.020833</td>\n",
       "      <td>3.378676</td>\n",
       "      <td>3</td>\n",
       "      <td>-13.000000</td>\n",
       "      <td>-66.0</td>\n",
       "      <td>32.0</td>\n",
       "      <td>-5.0</td>\n",
       "      <td>35.0</td>\n",
       "      <td>19.0</td>\n",
       "      <td>3.0</td>\n",
       "      <td>6.0</td>\n",
       "      <td>-37.0</td>\n",
       "      <td>-23.0</td>\n",
       "    </tr>\n",
       "    <tr>\n",
       "      <th>2018-03-01 14:00:00</th>\n",
       "      <td>16</td>\n",
       "      <td>0.812500</td>\n",
       "      <td>4.170229</td>\n",
       "      <td>3</td>\n",
       "      <td>-10.666667</td>\n",
       "      <td>2.0</td>\n",
       "      <td>-66.0</td>\n",
       "      <td>32.0</td>\n",
       "      <td>-5.0</td>\n",
       "      <td>35.0</td>\n",
       "      <td>19.0</td>\n",
       "      <td>3.0</td>\n",
       "      <td>6.0</td>\n",
       "      <td>-37.0</td>\n",
       "    </tr>\n",
       "    <tr>\n",
       "      <th>2018-03-01 15:00:00</th>\n",
       "      <td>18</td>\n",
       "      <td>0.041667</td>\n",
       "      <td>12.932979</td>\n",
       "      <td>3</td>\n",
       "      <td>-16.000000</td>\n",
       "      <td>16.0</td>\n",
       "      <td>2.0</td>\n",
       "      <td>-66.0</td>\n",
       "      <td>32.0</td>\n",
       "      <td>-5.0</td>\n",
       "      <td>35.0</td>\n",
       "      <td>19.0</td>\n",
       "      <td>3.0</td>\n",
       "      <td>6.0</td>\n",
       "    </tr>\n",
       "    <tr>\n",
       "      <th>2018-03-01 16:00:00</th>\n",
       "      <td>-23</td>\n",
       "      <td>-0.520833</td>\n",
       "      <td>25.881750</td>\n",
       "      <td>3</td>\n",
       "      <td>12.000000</td>\n",
       "      <td>18.0</td>\n",
       "      <td>16.0</td>\n",
       "      <td>2.0</td>\n",
       "      <td>-66.0</td>\n",
       "      <td>32.0</td>\n",
       "      <td>-5.0</td>\n",
       "      <td>35.0</td>\n",
       "      <td>19.0</td>\n",
       "      <td>3.0</td>\n",
       "    </tr>\n",
       "    <tr>\n",
       "      <th>...</th>\n",
       "      <td>...</td>\n",
       "      <td>...</td>\n",
       "      <td>...</td>\n",
       "      <td>...</td>\n",
       "      <td>...</td>\n",
       "      <td>...</td>\n",
       "      <td>...</td>\n",
       "      <td>...</td>\n",
       "      <td>...</td>\n",
       "      <td>...</td>\n",
       "      <td>...</td>\n",
       "      <td>...</td>\n",
       "      <td>...</td>\n",
       "      <td>...</td>\n",
       "    </tr>\n",
       "    <tr>\n",
       "      <th>2018-08-31 07:00:00</th>\n",
       "      <td>11</td>\n",
       "      <td>1.958333</td>\n",
       "      <td>4.087693</td>\n",
       "      <td>4</td>\n",
       "      <td>-21.333333</td>\n",
       "      <td>-43.0</td>\n",
       "      <td>-190.0</td>\n",
       "      <td>169.0</td>\n",
       "      <td>-131.0</td>\n",
       "      <td>36.0</td>\n",
       "      <td>-82.0</td>\n",
       "      <td>30.0</td>\n",
       "      <td>88.0</td>\n",
       "      <td>-40.0</td>\n",
       "    </tr>\n",
       "    <tr>\n",
       "      <th>2018-08-31 08:00:00</th>\n",
       "      <td>136</td>\n",
       "      <td>1.583333</td>\n",
       "      <td>43.901103</td>\n",
       "      <td>4</td>\n",
       "      <td>-74.000000</td>\n",
       "      <td>11.0</td>\n",
       "      <td>-43.0</td>\n",
       "      <td>-190.0</td>\n",
       "      <td>169.0</td>\n",
       "      <td>-131.0</td>\n",
       "      <td>36.0</td>\n",
       "      <td>-82.0</td>\n",
       "      <td>30.0</td>\n",
       "      <td>88.0</td>\n",
       "    </tr>\n",
       "    <tr>\n",
       "      <th>2018-08-31 09:00:00</th>\n",
       "      <td>21</td>\n",
       "      <td>-0.562500</td>\n",
       "      <td>15.665903</td>\n",
       "      <td>4</td>\n",
       "      <td>34.666667</td>\n",
       "      <td>136.0</td>\n",
       "      <td>11.0</td>\n",
       "      <td>-43.0</td>\n",
       "      <td>-190.0</td>\n",
       "      <td>169.0</td>\n",
       "      <td>-131.0</td>\n",
       "      <td>36.0</td>\n",
       "      <td>-82.0</td>\n",
       "      <td>30.0</td>\n",
       "    </tr>\n",
       "    <tr>\n",
       "      <th>2018-08-31 10:00:00</th>\n",
       "      <td>-12</td>\n",
       "      <td>0.541667</td>\n",
       "      <td>4.325170</td>\n",
       "      <td>4</td>\n",
       "      <td>56.000000</td>\n",
       "      <td>21.0</td>\n",
       "      <td>136.0</td>\n",
       "      <td>11.0</td>\n",
       "      <td>-43.0</td>\n",
       "      <td>-190.0</td>\n",
       "      <td>169.0</td>\n",
       "      <td>-131.0</td>\n",
       "      <td>36.0</td>\n",
       "      <td>-82.0</td>\n",
       "    </tr>\n",
       "    <tr>\n",
       "      <th>2018-08-31 11:00:00</th>\n",
       "      <td>-24</td>\n",
       "      <td>0.500000</td>\n",
       "      <td>-10.883164</td>\n",
       "      <td>4</td>\n",
       "      <td>48.333333</td>\n",
       "      <td>-12.0</td>\n",
       "      <td>21.0</td>\n",
       "      <td>136.0</td>\n",
       "      <td>11.0</td>\n",
       "      <td>-43.0</td>\n",
       "      <td>-190.0</td>\n",
       "      <td>169.0</td>\n",
       "      <td>-131.0</td>\n",
       "      <td>36.0</td>\n",
       "    </tr>\n",
       "  </tbody>\n",
       "</table>\n",
       "<p>4392 rows × 14 columns</p>\n",
       "</div>"
      ],
      "text/plain": [
       "                     num_orders     trend   seasonal  dayofweek  rolling_mean  \\\n",
       "datetime                                                                        \n",
       "2018-03-01 12:00:00         -66  0.500000 -14.806319          3     20.666667   \n",
       "2018-03-01 13:00:00           2  0.020833   3.378676          3    -13.000000   \n",
       "2018-03-01 14:00:00          16  0.812500   4.170229          3    -10.666667   \n",
       "2018-03-01 15:00:00          18  0.041667  12.932979          3    -16.000000   \n",
       "2018-03-01 16:00:00         -23 -0.520833  25.881750          3     12.000000   \n",
       "...                         ...       ...        ...        ...           ...   \n",
       "2018-08-31 07:00:00          11  1.958333   4.087693          4    -21.333333   \n",
       "2018-08-31 08:00:00         136  1.583333  43.901103          4    -74.000000   \n",
       "2018-08-31 09:00:00          21 -0.562500  15.665903          4     34.666667   \n",
       "2018-08-31 10:00:00         -12  0.541667   4.325170          4     56.000000   \n",
       "2018-08-31 11:00:00         -24  0.500000 -10.883164          4     48.333333   \n",
       "\n",
       "                     lag_1  lag_2  lag_3  lag_4  lag_5  lag_6  lag_7  lag_8  \\\n",
       "datetime                                                                      \n",
       "2018-03-01 12:00:00   32.0   -5.0   35.0   19.0    3.0    6.0  -37.0  -23.0   \n",
       "2018-03-01 13:00:00  -66.0   32.0   -5.0   35.0   19.0    3.0    6.0  -37.0   \n",
       "2018-03-01 14:00:00    2.0  -66.0   32.0   -5.0   35.0   19.0    3.0    6.0   \n",
       "2018-03-01 15:00:00   16.0    2.0  -66.0   32.0   -5.0   35.0   19.0    3.0   \n",
       "2018-03-01 16:00:00   18.0   16.0    2.0  -66.0   32.0   -5.0   35.0   19.0   \n",
       "...                    ...    ...    ...    ...    ...    ...    ...    ...   \n",
       "2018-08-31 07:00:00  -43.0 -190.0  169.0 -131.0   36.0  -82.0   30.0   88.0   \n",
       "2018-08-31 08:00:00   11.0  -43.0 -190.0  169.0 -131.0   36.0  -82.0   30.0   \n",
       "2018-08-31 09:00:00  136.0   11.0  -43.0 -190.0  169.0 -131.0   36.0  -82.0   \n",
       "2018-08-31 10:00:00   21.0  136.0   11.0  -43.0 -190.0  169.0 -131.0   36.0   \n",
       "2018-08-31 11:00:00  -12.0   21.0  136.0   11.0  -43.0 -190.0  169.0 -131.0   \n",
       "\n",
       "                     lag_9  \n",
       "datetime                    \n",
       "2018-03-01 12:00:00   -5.0  \n",
       "2018-03-01 13:00:00  -23.0  \n",
       "2018-03-01 14:00:00  -37.0  \n",
       "2018-03-01 15:00:00    6.0  \n",
       "2018-03-01 16:00:00    3.0  \n",
       "...                    ...  \n",
       "2018-08-31 07:00:00  -40.0  \n",
       "2018-08-31 08:00:00   88.0  \n",
       "2018-08-31 09:00:00   30.0  \n",
       "2018-08-31 10:00:00  -82.0  \n",
       "2018-08-31 11:00:00   36.0  \n",
       "\n",
       "[4392 rows x 14 columns]"
      ]
     },
     "execution_count": 15,
     "metadata": {},
     "output_type": "execute_result"
    }
   ],
   "source": [
    "data['trend'] = decomposed.trend\n",
    "data['seasonal'] = decomposed.seasonal\n",
    "# data['residuals'] = decomposed.resid  # ОСТСТАКИ НЕ ДЕЛАЕМ ФАКТОРАМИ\n",
    "# data['month'] = data.index.month      # ТОЖЕ НЕ НАДО ВСТАВЛЯТЬ\n",
    "# data['day'] = data.index.day          # И ЭТОТ ТОЖЕ ЗАКОМЕНТИМ\n",
    "data['dayofweek'] = data.index.dayofweek\n",
    "data['rolling_mean'] = data['num_orders'].shift().rolling(3).mean()\n",
    "for lag in range(1, 10):\n",
    "        data['lag_{}'.format(lag)] = data['num_orders'].shift(lag)\n",
    "data = data.dropna()\n",
    "data"
   ]
  },
  {
   "cell_type": "markdown",
   "metadata": {},
   "source": [
    "<div class=\"alert alert-danger\" style=\"border-color: darkred; border-radius: 5px\">\n",
    "    <p><u><b>❌ КОММЕНТАРИЙ РЕВЬЮЕРА</b></u></p>\n",
    "    Дальше получается, что мы будем предсказывать прирост относительно предыдущего часа на основе среднего и стандартного отклоннеия? Т.е. факторами продаж данного бизнеса будут среднее и стандартное? Идея временных рядоа - преставить исодный ряд через факторы бизнеса: тренд, сезонность (в нашем задаче) и некие внешние факторы (акции, цена....) - - в целом. Посмотри этот момент ещё раз, пожалуйста."
   ]
  },
  {
   "cell_type": "markdown",
   "metadata": {},
   "source": [
    "<div class=\"alert alert-success\" style=\"border-color: green; border-radius: 5px\">\n",
    "    <p><u><b>✅ КОММЕНТАРИЙ РЕВЬЮЕРА</b></u></p>\n",
    "Тут надо принять, что временной ряд - это отображение реальных продаж бизнеса.<br>\n",
    "А на продажи действуют фаткоры. Часть из которых мы называем тренд и сезонность.<br>\n",
    "Что это такое:\n",
    "Возьмём для примера упрощённое видение<br>\n",
    "есть город, в нём 100 человек жиыёт<br>\n",
    "Каждый из них покупает себе бутылку воды<br>\n",
    "Итого у нас продажи: 100 бутылок каждый день - прямая линия на графике.<br>\n",
    "    \n",
    "Предположим дополнительную ситуацию: количество жителей увеличивается на 1 каждый день. И каждый из них - тоже водохлёб<br>\n",
    "Тогда наши продажи бубут увеличиваться на 1 каждый день - т.е будет тренд<br>\n",
    "Т.е. наклонная линия на графике<br>\n",
    "    \n",
    "Следующая ситуация: <br>\n",
    "Летом воды пьём больше, зимой меньше. Причём так: летом по 2 бутылки, зимой по одной<br>\n",
    "И если наложить эту ситуацию на первый случай (просто 100 человек)<br>\n",
    "то будем иметь на графике прямую волнистую линию - синусоду.<br>\n",
    "Это есть сезонность времени года.<br>\n",
    "    \n",
    "А если наложить эту ситуацию на второй случай (прибавление населения города)<br>\n",
    "то будем иметь на графике восходящую волнистую линию - синусоду вверх.<br>\n",
    "\n",
    "Что всё это демонстрирует:<br>\n",
    "продажи = тренд + сезонность.<br> \n",
    "    \n",
    "А если наложить жизненые обстоятельства: кто-то хотел пойти купить бутылку воды, но подскользнулся, упал сломал ногу - остался без воды. А у нас продажи не случились. И допусти м таких случае много. ТОгда имеем ещё одну составляющую ряда - шум.<br>\n",
    "Это то, что нельзя предсказать ни как. Это не определённость. (Чем она меньше, тем лучше. Но есть предел неопределённости, который нам не преодолеть. Т.е. есть всегда минимальная ошибка)<br>\n",
    "Продажи = тренд + сезонность + шум\n",
    "    \n",
    "Вот именно эти сосатвляющие даёт декомпозиция<br>\n",
    "    \n",
    "Но жизнь сложнее....и есть вторая сезонность - недельная: по выходным пьём больше (сушняк)))<br>\n",
    "Продажи = тренд + сезонность1 + сезонность2 + шум<br>\n",
    "    \n",
    "А теперь, наши маркетологи придумали акции, и в один из месяцев провели акцию<br>\n",
    "Продажи = тренд + сезонность1 + сезонность2 + акция + шум<br>    \n",
    "    \n",
    "А есть ещё влияние продаж предыдущего дня (месяца): вчерашние продажи влияют на сегодняшние (у вас это обозначен lag)<br>\n",
    "Продажи = тренд + сезонность1 + сезонность2 + акция + lag_1 + шум<br>       \n",
    "    \n",
    "А если внешний фактор - погода (температура воздуха) - тоже влияет<br>\n",
    "Продажи = тренд + сезонность1 + сезонность2 + акция + lag_1 + ВНЕШНИЙ ФАКТОР(Температура) + шум<br>     \n",
    "\n",
    "И т.д. Это и есть факторы продаж временного ряда. А по сути факторы продаж, которые мы и хотим учесть в моделях, чтобы иметь наиболее точный прогноз и анализ влияния каждого фактора.<br>\n",
    "Как они соотносятся - это у каждого бизнеса - по разному.<br>\n",
    "\n",
    "И тут важжным является то, как аналитик понимает тот бизнес, который хочет прогнозировать. От этого будет подбирать факторы.<br>\n",
    "А потом уже модели подбирать<br>    \n",
    "\n",
    "Как они соотносятся - это у каждого бизнеса - по разному.<br>"
   ]
  },
  {
   "cell_type": "markdown",
   "metadata": {},
   "source": [
    "<div class=\"alert alert-info\"> \n",
    "<b> Комментарий студентки: </b> \n",
    "Поняла, спасибо за объяснение! Исправила.\n",
    "</div>"
   ]
  },
  {
   "cell_type": "markdown",
   "metadata": {},
   "source": [
    "## Обучение"
   ]
  },
  {
   "cell_type": "code",
   "execution_count": 16,
   "metadata": {},
   "outputs": [],
   "source": [
    "# создание признаков\n",
    "features = data.drop('num_orders', axis=1)\n",
    "target = data['num_orders']\n",
    "\n",
    "train, valid =  train_test_split(data, test_size=0.2, random_state=12345, shuffle=False)\n",
    "train, test =  train_test_split(train, test_size=0.125, random_state=12345, shuffle=False)\n",
    "\n",
    "features_train = train.drop('num_orders', axis=1)\n",
    "target_train = train['num_orders']\n",
    "\n",
    "features_valid = valid.drop('num_orders', axis=1)\n",
    "target_valid = valid['num_orders']\n",
    "\n",
    "features_test = test.drop('num_orders', axis=1)\n",
    "target_test = test['num_orders']"
   ]
  },
  {
   "cell_type": "code",
   "execution_count": 17,
   "metadata": {},
   "outputs": [],
   "source": [
    "name_array = []\n",
    "rmse_array = []"
   ]
  },
  {
   "cell_type": "markdown",
   "metadata": {},
   "source": [
    "### Регрессионное дерево решений"
   ]
  },
  {
   "cell_type": "code",
   "execution_count": 18,
   "metadata": {},
   "outputs": [
    {
     "name": "stdout",
     "output_type": "stream",
     "text": [
      "RMSE: 51.789929663613194\n"
     ]
    }
   ],
   "source": [
    "# создание и обучение модели\n",
    "model_tree = DecisionTreeRegressor(random_state=12345)\n",
    "model_tree.fit(features_train, target_train)\n",
    "predictions = model_tree.predict(features_valid)\n",
    "rmse = mean_squared_error(target_valid, predictions)**0.5\n",
    "print('RMSE:', rmse)"
   ]
  },
  {
   "cell_type": "code",
   "execution_count": 19,
   "metadata": {},
   "outputs": [
    {
     "name": "stdout",
     "output_type": "stream",
     "text": [
      "RMSE при глубине дерева 4: 44.618112702099296\n"
     ]
    }
   ],
   "source": [
    "# подборка гиперпараметра\n",
    "min_rmse = rmse\n",
    "best_depth = 0\n",
    "for depth in range(1, 20):\n",
    "    model_tree = DecisionTreeRegressor(random_state=12345, max_depth=depth)\n",
    "    model_tree.fit(features_train, target_train)\n",
    "    predictions = model_tree.predict(features_valid)\n",
    "    rmse = mean_squared_error(target_valid, predictions)**0.5\n",
    "    if min_rmse > rmse:\n",
    "        min_rmse = rmse\n",
    "        best_depth = depth\n",
    "print('RMSE при глубине дерева {0}:'.format(best_depth), min_rmse)"
   ]
  },
  {
   "cell_type": "code",
   "execution_count": 20,
   "metadata": {},
   "outputs": [
    {
     "name": "stdout",
     "output_type": "stream",
     "text": [
      "RMSE: 44.618112702099296\n"
     ]
    }
   ],
   "source": [
    "# создание и обучение модели\n",
    "model_tree = DecisionTreeRegressor(random_state=12345, max_depth=best_depth)\n",
    "model_tree.fit(features_train, target_train)\n",
    "predictions = model_tree.predict(features_valid)\n",
    "rmse = mean_squared_error(target_valid, predictions)**0.5\n",
    "print('RMSE:', rmse)"
   ]
  },
  {
   "cell_type": "code",
   "execution_count": 21,
   "metadata": {},
   "outputs": [],
   "source": [
    "name_array.append('TreeRegressor')\n",
    "rmse_array.append(rmse)"
   ]
  },
  {
   "cell_type": "code",
   "execution_count": 22,
   "metadata": {},
   "outputs": [
    {
     "data": {
      "image/png": "[encoded data removed]",
      "text/plain": [
       "<Figure size 432x288 with 1 Axes>"
      ]
     },
     "metadata": {
      "needs_background": "light"
     },
     "output_type": "display_data"
    }
   ],
   "source": [
    "df = pd.DataFrame(target_valid)\n",
    "df['predictions'] = predictions\n",
    "df = df.resample('1D').sum()\n",
    "df.plot();"
   ]
  },
  {
   "cell_type": "markdown",
   "metadata": {},
   "source": [
    "### Регрессионный лес решений"
   ]
  },
  {
   "cell_type": "code",
   "execution_count": 23,
   "metadata": {},
   "outputs": [
    {
     "name": "stdout",
     "output_type": "stream",
     "text": [
      "RMSE: 42.25773794009121\n"
     ]
    }
   ],
   "source": [
    "# создание и обучение модели\n",
    "model_forest = RandomForestRegressor(random_state=12345)\n",
    "model_forest.fit(features_train, target_train)\n",
    "predictions = model_forest.predict(features_valid)\n",
    "rmse = mean_squared_error(target_valid, predictions)**0.5\n",
    "print('RMSE:', rmse)"
   ]
  },
  {
   "cell_type": "code",
   "execution_count": 24,
   "metadata": {},
   "outputs": [
    {
     "name": "stdout",
     "output_type": "stream",
     "text": [
      "RMSE при количестве деревьев 50: 41.87833526696889\n"
     ]
    }
   ],
   "source": [
    "# подборка гиперпараметра\n",
    "min_rmse = rmse\n",
    "best_n_estimators = 10\n",
    "for n in range(10, 100, 10):\n",
    "    model_forest = RandomForestRegressor(random_state=12345, n_estimators=n)\n",
    "    model_forest.fit(features_train, target_train)\n",
    "    predictions = model_forest.predict(features_valid)\n",
    "    rmse = mean_squared_error(target_valid, predictions)**0.5\n",
    "    if min_rmse > rmse:\n",
    "        min_rmse = rmse\n",
    "        best_n_estimators = n\n",
    "print('RMSE при количестве деревьев {0}:'.format(best_n_estimators), min_rmse)"
   ]
  },
  {
   "cell_type": "code",
   "execution_count": 25,
   "metadata": {},
   "outputs": [
    {
     "name": "stdout",
     "output_type": "stream",
     "text": [
      "RMSE: 41.87833526696889\n"
     ]
    }
   ],
   "source": [
    "# создание и обучение модели\n",
    "model_forest = RandomForestRegressor(random_state=12345, n_estimators=best_n_estimators)\n",
    "model_forest.fit(features_train, target_train)\n",
    "predictions = model_forest.predict(features_valid)\n",
    "rmse = mean_squared_error(target_valid, predictions)**0.5\n",
    "print('RMSE:', rmse)"
   ]
  },
  {
   "cell_type": "code",
   "execution_count": 26,
   "metadata": {},
   "outputs": [],
   "source": [
    "name_array.append('ForestRegressor')\n",
    "rmse_array.append(rmse)"
   ]
  },
  {
   "cell_type": "code",
   "execution_count": 27,
   "metadata": {},
   "outputs": [
    {
     "data": {
      "image/png": "[encoded data removed]",
      "text/plain": [
       "<Figure size 432x288 with 1 Axes>"
      ]
     },
     "metadata": {
      "needs_background": "light"
     },
     "output_type": "display_data"
    }
   ],
   "source": [
    "df = pd.DataFrame(target_valid)\n",
    "df['predictions'] = predictions\n",
    "df = df.resample('1D').sum()\n",
    "df.plot();"
   ]
  },
  {
   "cell_type": "markdown",
   "metadata": {},
   "source": [
    "### Линейная регрессия"
   ]
  },
  {
   "cell_type": "code",
   "execution_count": 28,
   "metadata": {},
   "outputs": [
    {
     "name": "stdout",
     "output_type": "stream",
     "text": [
      "RMSE: 42.752048712510586\n"
     ]
    }
   ],
   "source": [
    "# создание и обучение модели\n",
    "model_lin = LinearRegression()\n",
    "model_lin.fit(features_train, target_train)\n",
    "predictions = model_lin.predict(features_valid)\n",
    "rmse = mean_squared_error(target_valid, predictions)**0.5\n",
    "print('RMSE:', rmse)"
   ]
  },
  {
   "cell_type": "code",
   "execution_count": 29,
   "metadata": {},
   "outputs": [],
   "source": [
    "name_array.append('LinearRegression')\n",
    "rmse_array.append(rmse)"
   ]
  },
  {
   "cell_type": "code",
   "execution_count": 30,
   "metadata": {},
   "outputs": [
    {
     "data": {
      "image/png": "[encoded data removed]",
      "text/plain": [
       "<Figure size 432x288 with 1 Axes>"
      ]
     },
     "metadata": {
      "needs_background": "light"
     },
     "output_type": "display_data"
    }
   ],
   "source": [
    "df = pd.DataFrame(target_valid)\n",
    "df['predictions'] = predictions\n",
    "df = df.resample('1D').sum()\n",
    "df.plot();"
   ]
  },
  {
   "cell_type": "markdown",
   "metadata": {},
   "source": [
    "### Градиентный бустинг регрессии"
   ]
  },
  {
   "cell_type": "code",
   "execution_count": 31,
   "metadata": {},
   "outputs": [
    {
     "name": "stdout",
     "output_type": "stream",
     "text": [
      "RMSE: 42.27648949143414\n"
     ]
    }
   ],
   "source": [
    "model_lgbm_regressor = LGBMRegressor()\n",
    "model_lgbm_regressor.fit(features_train, target_train)\n",
    "predictions = model_lgbm_regressor.predict(features_valid)\n",
    "rmse = mean_squared_error(target_valid, predictions)**0.5\n",
    "print('RMSE:', rmse)"
   ]
  },
  {
   "cell_type": "code",
   "execution_count": 32,
   "metadata": {},
   "outputs": [],
   "source": [
    "name_array.append('LGBMRegressor')\n",
    "rmse_array.append(rmse)"
   ]
  },
  {
   "cell_type": "code",
   "execution_count": 33,
   "metadata": {},
   "outputs": [
    {
     "data": {
      "image/png": "[encoded data removed]",
      "text/plain": [
       "<Figure size 432x288 with 1 Axes>"
      ]
     },
     "metadata": {
      "needs_background": "light"
     },
     "output_type": "display_data"
    }
   ],
   "source": [
    "df = pd.DataFrame(target_valid)\n",
    "df['predictions'] = predictions\n",
    "df = df.resample('1D').sum()\n",
    "df.plot();"
   ]
  },
  {
   "cell_type": "markdown",
   "metadata": {},
   "source": [
    "### Выбор модели"
   ]
  },
  {
   "cell_type": "code",
   "execution_count": 34,
   "metadata": {},
   "outputs": [],
   "source": [
    "comparison_df = pd.DataFrame({\"Type\":pd.Series(name_array), \n",
    "                              \"RMSE\":pd.Series(rmse_array)})"
   ]
  },
  {
   "cell_type": "code",
   "execution_count": 35,
   "metadata": {},
   "outputs": [
    {
     "data": {
      "text/html": [
       "<div>\n",
       "<style scoped>\n",
       "    .dataframe tbody tr th:only-of-type {\n",
       "        vertical-align: middle;\n",
       "    }\n",
       "\n",
       "    .dataframe tbody tr th {\n",
       "        vertical-align: top;\n",
       "    }\n",
       "\n",
       "    .dataframe thead th {\n",
       "        text-align: right;\n",
       "    }\n",
       "</style>\n",
       "<table border=\"1\" class=\"dataframe\">\n",
       "  <thead>\n",
       "    <tr style=\"text-align: right;\">\n",
       "      <th></th>\n",
       "      <th>Type</th>\n",
       "      <th>RMSE</th>\n",
       "    </tr>\n",
       "  </thead>\n",
       "  <tbody>\n",
       "    <tr>\n",
       "      <th>1</th>\n",
       "      <td>ForestRegressor</td>\n",
       "      <td>41.878335</td>\n",
       "    </tr>\n",
       "    <tr>\n",
       "      <th>3</th>\n",
       "      <td>LGBMRegressor</td>\n",
       "      <td>42.276489</td>\n",
       "    </tr>\n",
       "    <tr>\n",
       "      <th>2</th>\n",
       "      <td>LinearRegression</td>\n",
       "      <td>42.752049</td>\n",
       "    </tr>\n",
       "    <tr>\n",
       "      <th>0</th>\n",
       "      <td>TreeRegressor</td>\n",
       "      <td>44.618113</td>\n",
       "    </tr>\n",
       "  </tbody>\n",
       "</table>\n",
       "</div>"
      ],
      "text/plain": [
       "               Type       RMSE\n",
       "1   ForestRegressor  41.878335\n",
       "3     LGBMRegressor  42.276489\n",
       "2  LinearRegression  42.752049\n",
       "0     TreeRegressor  44.618113"
      ]
     },
     "execution_count": 35,
     "metadata": {},
     "output_type": "execute_result"
    }
   ],
   "source": [
    "comparison_df.sort_values(by='RMSE')"
   ]
  },
  {
   "cell_type": "markdown",
   "metadata": {},
   "source": [
    "Лучшей моделью является регрессивный лес."
   ]
  },
  {
   "cell_type": "markdown",
   "metadata": {},
   "source": [
    "## Тестирование"
   ]
  },
  {
   "cell_type": "code",
   "execution_count": 36,
   "metadata": {},
   "outputs": [
    {
     "name": "stdout",
     "output_type": "stream",
     "text": [
      "RMSE: 31.507010536808554\n"
     ]
    }
   ],
   "source": [
    "predictions = model_forest.predict(features_test)\n",
    "rmse = mean_squared_error(target_test, predictions)**0.5\n",
    "print('RMSE:', rmse)"
   ]
  },
  {
   "cell_type": "markdown",
   "metadata": {},
   "source": [
    "## Вывод"
   ]
  },
  {
   "cell_type": "markdown",
   "metadata": {},
   "source": [
    "Мною были подготовлены для анализа и исследованы данные о заказах такси в аэропортах. Данные оказались без пропусков и дубликатов. Я построила графика для подробного анализа. Из них я узнала, что что количество заказов растет, но есть характерные выбросы, предположительно, связанные с праздниками и каникулами. Временной ряд оказался нестационареым, перед обучением моделей на нем, пришлось привести ряд к стационарному виду путем подсчета разности его значений. На подготовленном временном ряде я обучила четыре модели, лучший результат продемонстрировала регрессивный лес. Эту модель я проверила на тестовой выборке, корень ее среднеквадратичной ошибка оказался равен примерно 39. "
   ]
  },
  {
   "cell_type": "markdown",
   "metadata": {},
   "source": [
    "<div class=\"alert alert-success\" style=\"border-color: green; border-radius: 5px\">\n",
    "    <p><u><b>✅ КОММЕНТАРИЙ РЕВЬЮЕРА</b></u></p>\n",
    "ОК, Дарья, с модельной частью тебе удалось справиться хорошо!<br>\n",
    "Видно, что этот скил уже достаточно сильный.<br>\n",
    "Метрика - ОК. Но не понятно, если честно, а хороша ли эта модель в плане предсказания? Для этого лучше построить дополнительно график (чуть ниженаписал об этом).<br>\n",
    "    \n",
    "И если сутейно рассуждать, то временные ряды стоят особняком во всём курсе, я бы сказал. Тут чуть иная модельная философия, на мой взгляд. Имменно поэтому позволял себе оставлять большие рассуждения, чтобы как-то раскрыть её особенности.<br>\n",
    "<font color='red'>         \n",
    "Оставил несколько важных комментариев в тексте. Готов буду ответить на твои вопросы!<br>\n",
    "<font color='red'>    \n",
    "Также попрошу вот что:<br>\n",
    "Выведи, пожалуйста графики факт/предсказанное на одном рисунке (обычный линейный график). Чтобы увидеть где основные не \"попадалки\" модели. Это один из важнейших инструментов анализа результатов моделирования временных рядов.<br>\n",
    "Лучше выбрать масштаб, скажем, несколько дней, чтобы увиеть можо было и сравнить каждый час.<br>    \n",
    "<font color='green'>\n",
    "Спасибо)<BR>\n",
    "БУДУ ЖДАТЬ КОММЕНТАРИЕВ</div> "
   ]
  },
  {
   "attachments": {
    "image.png": {
     "image/png": "[encoded data removed]"
    }
   },
   "cell_type": "markdown",
   "metadata": {},
   "source": [
    "![image.png](attachment:image.png)"
   ]
  },
  {
   "cell_type": "markdown",
   "metadata": {},
   "source": [
    "<div class=\"alert alert-info\"> \n",
    "<b> Комментарий студентки: </b> \n",
    "Добавила графики\n",
    "</div>"
   ]
  },
  {
   "cell_type": "markdown",
   "metadata": {},
   "source": [
    "## Чек-лист проверки"
   ]
  },
  {
   "cell_type": "markdown",
   "metadata": {},
   "source": [
    "- [x]  Jupyter Notebook открыт\n",
    "- [x]  Весь код выполняется без ошибок\n",
    "- [x]  Ячейки с кодом расположены в порядке исполнения\n",
    "- [x]  Данные загружены и подготовлены\n",
    "- [x]  Данные проанализированы\n",
    "- [x]  Модель обучена, гиперпараметры подобраны\n",
    "- [x]  Качество моделей проверено, выводы сделаны\n",
    "- [x]  Значение *RMSE* на тестовой выборке не больше 48"
   ]
  },
  {
   "cell_type": "markdown",
   "metadata": {},
   "source": [
    "<div class=\"alert alert-success\" style=\"border-color: green; border-radius: 5px\">\n",
    "    <p><u><b>✅ КОММЕНТАРИЙ РЕВЬЮЕРА</b></u></p>\n",
    "Хотел бы оставить несколько идей для твоих будущих проектов в этой обоасти<br>\n",
    "\n",
    "На мой взгляд, в этой теме (временные ряды) главное - необходимо чувствовать исходный ряд продаж, с точки зрения бизнеса, и уже только потом подбирать к нему модели. Каждое колебание временного ряда - это деньги для бизнеса (если говорим что заказчик бизнесовый) и за \"трепетами\" данных прячутся разные семейства причин. И именно знание их помогут строить хорошие прогнозы..<br>.\n",
    "Леса, бустинги, регрессии.... могут подобрать хорошие модели на старых данных. Но иногда, как прогноз эти, модели могут оказаться пустышками - не интересными бизнесу. <br>  <br>\n",
    "Поэтому, от себя позволю добавить несколько идей:<br>\n",
    "Очень часто ищут \"волшебную таблетку\" или \"кнопку\". Нажал и само всё построилось с высокой точностью<br>\n",
    "Но такого никогода не будет)))<br>\n",
    "И причиной тому: модели нужно подсказать причины, по которым происходит колебания продаж (временного ряда): понимать причины колебаний треда, понимать аномалии, учитывать акционные продажи, видеть действия конкурентов , закладывать их в модель и т.д. <br><br>\n",
    "В общем, всё как обычно - три группы факторов: <br>\n",
    "1)внешние факторы (например выручка такси-компании зависит от количества машин на линии),<br>\n",
    "2)есть факторы внутри самих данных (Вы использовали как раз поняти лаг, сезонности), <br>\n",
    "3)есть параметры самих моделей (то, что обычно используется при моделировании леса или деревьев).<br><br>\n",
    "\n",
    "Ещё важно иметь ввиду горизонт прогноза: на кокой период строить прогноз нужно  - на час вперёд, на неделю, на месяц.<br>\n",
    "Это также накладывает ограничения на подбор моделей<br>\n",
    "Я бы рекомендовал Вам составить для себя матрицу  в разрезе: <br>\n",
    "а)есть тренд/нет тренда; <br>\n",
    "б)еть сезоннотсь/нет сезонности; <br>\n",
    "в)какой горизонт прогноза требуется; <br>\n",
    "г) есть ли у нас дополнительные факторы для модей<br>\n",
    "На пересечении знаний о моделях легко будет подобрать адкватную модель.\n",
    "Не все задачи прогнозирования временных рядов можно хорошо решить лесом и еже с ним на основе знаний только факторов ряда... Они хорошо подойдут для коротких горизонтов прогнозирования.... А если горизонт чуть больше: недели, месяцы... то тут надо подключать понимания фаткоров продаж самого бизнеса.</div> "
   ]
  },
  {
   "cell_type": "markdown",
   "metadata": {},
   "source": [
    "<div class=\"alert alert-info\"> \n",
    "<b> Комментарий студентки: </b> \n",
    "Спасибо!\n",
    "</div>"
   ]
  },
  {
   "cell_type": "code",
   "execution_count": null,
   "metadata": {},
   "outputs": [],
   "source": []
  }
 ],
 "metadata": {
  "ExecuteTimeLog": [
   {
    "duration": 564,
    "start_time": "2022-05-25T13:38:49.090Z"
   },
   {
    "duration": 155,
    "start_time": "2022-05-25T13:38:50.373Z"
   },
   {
    "duration": 44,
    "start_time": "2022-05-25T13:38:55.974Z"
   },
   {
    "duration": 13,
    "start_time": "2022-05-25T13:39:50.921Z"
   },
   {
    "duration": 13,
    "start_time": "2022-05-25T13:40:23.673Z"
   },
   {
    "duration": 515,
    "start_time": "2022-05-25T13:47:35.955Z"
   },
   {
    "duration": 61,
    "start_time": "2022-05-25T13:47:36.472Z"
   },
   {
    "duration": 13,
    "start_time": "2022-05-25T13:47:36.534Z"
   },
   {
    "duration": 7,
    "start_time": "2022-05-25T13:47:36.549Z"
   },
   {
    "duration": 22,
    "start_time": "2022-05-25T13:47:36.558Z"
   },
   {
    "duration": 9,
    "start_time": "2022-05-25T13:47:52.656Z"
   },
   {
    "duration": 8,
    "start_time": "2022-05-25T13:48:58.055Z"
   },
   {
    "duration": 11,
    "start_time": "2022-05-25T13:50:10.190Z"
   },
   {
    "duration": 635,
    "start_time": "2022-05-25T13:50:16.267Z"
   },
   {
    "duration": 404,
    "start_time": "2022-05-25T13:50:21.439Z"
   },
   {
    "duration": 57,
    "start_time": "2022-05-25T13:50:21.844Z"
   },
   {
    "duration": 13,
    "start_time": "2022-05-25T13:50:21.902Z"
   },
   {
    "duration": 7,
    "start_time": "2022-05-25T13:50:21.917Z"
   },
   {
    "duration": 15,
    "start_time": "2022-05-25T13:50:21.926Z"
   },
   {
    "duration": 13,
    "start_time": "2022-05-25T13:50:21.943Z"
   },
   {
    "duration": 3,
    "start_time": "2022-05-25T13:51:08.323Z"
   },
   {
    "duration": 907,
    "start_time": "2022-05-25T13:53:12.747Z"
   },
   {
    "duration": 200,
    "start_time": "2022-05-25T13:53:39.010Z"
   },
   {
    "duration": 238,
    "start_time": "2022-05-25T13:54:20.119Z"
   },
   {
    "duration": 228,
    "start_time": "2022-05-25T13:54:33.379Z"
   },
   {
    "duration": 298,
    "start_time": "2022-05-25T13:54:38.685Z"
   },
   {
    "duration": 234,
    "start_time": "2022-05-25T13:54:47.608Z"
   },
   {
    "duration": 97,
    "start_time": "2022-05-25T13:57:53.506Z"
   },
   {
    "duration": 1149,
    "start_time": "2022-05-25T13:58:01.017Z"
   },
   {
    "duration": 59,
    "start_time": "2022-05-25T13:58:02.167Z"
   },
   {
    "duration": 43,
    "start_time": "2022-05-25T13:58:02.230Z"
   },
   {
    "duration": 12,
    "start_time": "2022-05-25T13:58:02.274Z"
   },
   {
    "duration": 40,
    "start_time": "2022-05-25T13:58:02.289Z"
   },
   {
    "duration": 13,
    "start_time": "2022-05-25T13:58:02.331Z"
   },
   {
    "duration": 4,
    "start_time": "2022-05-25T13:58:02.345Z"
   },
   {
    "duration": 40,
    "start_time": "2022-05-25T13:58:02.351Z"
   },
   {
    "duration": 236,
    "start_time": "2022-05-25T13:58:02.393Z"
   },
   {
    "duration": 358,
    "start_time": "2022-05-25T13:58:02.631Z"
   },
   {
    "duration": 131,
    "start_time": "2022-05-25T13:58:02.992Z"
   },
   {
    "duration": 1098,
    "start_time": "2022-05-25T13:58:43.411Z"
   },
   {
    "duration": 51,
    "start_time": "2022-05-25T13:58:44.511Z"
   },
   {
    "duration": 22,
    "start_time": "2022-05-25T13:58:44.564Z"
   },
   {
    "duration": 13,
    "start_time": "2022-05-25T13:58:44.592Z"
   },
   {
    "duration": 15,
    "start_time": "2022-05-25T13:58:44.606Z"
   },
   {
    "duration": 15,
    "start_time": "2022-05-25T13:58:44.623Z"
   },
   {
    "duration": 3,
    "start_time": "2022-05-25T13:58:44.640Z"
   },
   {
    "duration": 40,
    "start_time": "2022-05-25T13:58:44.645Z"
   },
   {
    "duration": 237,
    "start_time": "2022-05-25T13:58:44.693Z"
   },
   {
    "duration": 288,
    "start_time": "2022-05-25T13:58:44.933Z"
   },
   {
    "duration": 649,
    "start_time": "2022-05-25T13:58:45.222Z"
   },
   {
    "duration": 220,
    "start_time": "2022-05-25T13:59:41.688Z"
   },
   {
    "duration": 795,
    "start_time": "2022-05-25T14:01:27.221Z"
   },
   {
    "duration": 1010,
    "start_time": "2022-05-25T14:02:04.023Z"
   },
   {
    "duration": 49,
    "start_time": "2022-05-25T14:02:05.034Z"
   },
   {
    "duration": 11,
    "start_time": "2022-05-25T14:02:05.088Z"
   },
   {
    "duration": 10,
    "start_time": "2022-05-25T14:02:05.101Z"
   },
   {
    "duration": 16,
    "start_time": "2022-05-25T14:02:05.113Z"
   },
   {
    "duration": 14,
    "start_time": "2022-05-25T14:02:05.131Z"
   },
   {
    "duration": 33,
    "start_time": "2022-05-25T14:02:05.147Z"
   },
   {
    "duration": 8,
    "start_time": "2022-05-25T14:02:05.190Z"
   },
   {
    "duration": 240,
    "start_time": "2022-05-25T14:02:05.200Z"
   },
   {
    "duration": 176,
    "start_time": "2022-05-25T14:02:05.441Z"
   },
   {
    "duration": 0,
    "start_time": "2022-05-25T14:02:05.619Z"
   },
   {
    "duration": 329,
    "start_time": "2022-05-25T14:03:17.387Z"
   },
   {
    "duration": 292,
    "start_time": "2022-05-25T14:03:26.515Z"
   },
   {
    "duration": 12,
    "start_time": "2022-05-25T14:03:39.505Z"
   },
   {
    "duration": 1080,
    "start_time": "2022-05-25T14:04:35.368Z"
   },
   {
    "duration": 51,
    "start_time": "2022-05-25T14:04:36.450Z"
   },
   {
    "duration": 11,
    "start_time": "2022-05-25T14:04:36.502Z"
   },
   {
    "duration": 9,
    "start_time": "2022-05-25T14:04:36.514Z"
   },
   {
    "duration": 12,
    "start_time": "2022-05-25T14:04:36.525Z"
   },
   {
    "duration": 13,
    "start_time": "2022-05-25T14:04:36.538Z"
   },
   {
    "duration": 11,
    "start_time": "2022-05-25T14:04:36.580Z"
   },
   {
    "duration": 11,
    "start_time": "2022-05-25T14:04:36.593Z"
   },
   {
    "duration": 262,
    "start_time": "2022-05-25T14:04:36.605Z"
   },
   {
    "duration": 345,
    "start_time": "2022-05-25T14:04:36.869Z"
   },
   {
    "duration": 118,
    "start_time": "2022-05-25T14:04:37.215Z"
   },
   {
    "duration": 10,
    "start_time": "2022-05-25T14:04:52.618Z"
   },
   {
    "duration": 1094,
    "start_time": "2022-05-25T14:06:09.673Z"
   },
   {
    "duration": 54,
    "start_time": "2022-05-25T14:06:10.769Z"
   },
   {
    "duration": 11,
    "start_time": "2022-05-25T14:06:10.825Z"
   },
   {
    "duration": 27,
    "start_time": "2022-05-25T14:06:10.838Z"
   },
   {
    "duration": 53,
    "start_time": "2022-05-25T14:06:10.866Z"
   },
   {
    "duration": 28,
    "start_time": "2022-05-25T14:06:10.921Z"
   },
   {
    "duration": 41,
    "start_time": "2022-05-25T14:06:10.951Z"
   },
   {
    "duration": 26,
    "start_time": "2022-05-25T14:06:10.994Z"
   },
   {
    "duration": 250,
    "start_time": "2022-05-25T14:06:11.022Z"
   },
   {
    "duration": 752,
    "start_time": "2022-05-25T14:06:11.278Z"
   },
   {
    "duration": 317,
    "start_time": "2022-05-25T14:06:12.031Z"
   },
   {
    "duration": 319,
    "start_time": "2022-05-25T14:08:09.433Z"
   },
   {
    "duration": 1449,
    "start_time": "2022-05-25T20:52:13.438Z"
   },
   {
    "duration": 173,
    "start_time": "2022-05-25T20:52:14.889Z"
   },
   {
    "duration": 11,
    "start_time": "2022-05-25T20:52:15.064Z"
   },
   {
    "duration": 13,
    "start_time": "2022-05-25T20:52:15.076Z"
   },
   {
    "duration": 16,
    "start_time": "2022-05-25T20:52:15.091Z"
   },
   {
    "duration": 14,
    "start_time": "2022-05-25T20:52:15.109Z"
   },
   {
    "duration": 5,
    "start_time": "2022-05-25T20:52:15.125Z"
   },
   {
    "duration": 11,
    "start_time": "2022-05-25T20:52:15.158Z"
   },
   {
    "duration": 211,
    "start_time": "2022-05-25T20:52:15.170Z"
   },
   {
    "duration": 687,
    "start_time": "2022-05-25T20:52:15.382Z"
   },
   {
    "duration": 264,
    "start_time": "2022-05-25T20:52:16.071Z"
   },
   {
    "duration": 399,
    "start_time": "2022-05-25T20:52:16.337Z"
   },
   {
    "duration": 21,
    "start_time": "2022-05-25T20:52:16.738Z"
   },
   {
    "duration": 4,
    "start_time": "2022-05-25T20:56:40.712Z"
   },
   {
    "duration": 123,
    "start_time": "2022-05-25T21:00:06.535Z"
   },
   {
    "duration": 1208,
    "start_time": "2022-05-25T21:04:47.691Z"
   },
   {
    "duration": 52,
    "start_time": "2022-05-25T21:04:48.901Z"
   },
   {
    "duration": 11,
    "start_time": "2022-05-25T21:04:48.956Z"
   },
   {
    "duration": 9,
    "start_time": "2022-05-25T21:04:48.969Z"
   },
   {
    "duration": 14,
    "start_time": "2022-05-25T21:04:48.980Z"
   },
   {
    "duration": 13,
    "start_time": "2022-05-25T21:04:48.996Z"
   },
   {
    "duration": 7,
    "start_time": "2022-05-25T21:04:49.011Z"
   },
   {
    "duration": 40,
    "start_time": "2022-05-25T21:04:49.019Z"
   },
   {
    "duration": 225,
    "start_time": "2022-05-25T21:04:49.061Z"
   },
   {
    "duration": 634,
    "start_time": "2022-05-25T21:04:49.288Z"
   },
   {
    "duration": 289,
    "start_time": "2022-05-25T21:04:49.924Z"
   },
   {
    "duration": 421,
    "start_time": "2022-05-25T21:04:50.214Z"
   },
   {
    "duration": 6,
    "start_time": "2022-05-25T21:04:50.637Z"
   },
   {
    "duration": 125,
    "start_time": "2022-05-25T21:04:50.658Z"
   },
   {
    "duration": 16,
    "start_time": "2022-05-25T21:06:12.401Z"
   },
   {
    "duration": 341,
    "start_time": "2022-05-25T21:07:16.306Z"
   },
   {
    "duration": 9,
    "start_time": "2022-05-25T21:30:33.249Z"
   },
   {
    "duration": 14,
    "start_time": "2022-05-25T21:30:35.540Z"
   },
   {
    "duration": 14,
    "start_time": "2022-05-25T21:34:58.470Z"
   },
   {
    "duration": 13,
    "start_time": "2022-05-25T21:35:12.740Z"
   },
   {
    "duration": 17,
    "start_time": "2022-05-25T21:35:17.767Z"
   },
   {
    "duration": 170,
    "start_time": "2022-05-25T21:36:20.502Z"
   },
   {
    "duration": 638,
    "start_time": "2022-05-25T21:38:30.428Z"
   },
   {
    "duration": 2737,
    "start_time": "2022-05-25T21:38:33.113Z"
   },
   {
    "duration": 10,
    "start_time": "2022-05-25T21:39:51.622Z"
   },
   {
    "duration": 297,
    "start_time": "2022-05-25T21:41:52.548Z"
   },
   {
    "duration": 1087,
    "start_time": "2022-05-25T21:43:22.778Z"
   },
   {
    "duration": 3,
    "start_time": "2022-05-25T21:44:32.947Z"
   },
   {
    "duration": 2,
    "start_time": "2022-05-25T21:47:31.639Z"
   },
   {
    "duration": 1217,
    "start_time": "2022-05-25T21:49:14.515Z"
   },
   {
    "duration": 49,
    "start_time": "2022-05-25T21:49:15.735Z"
   },
   {
    "duration": 12,
    "start_time": "2022-05-25T21:49:15.785Z"
   },
   {
    "duration": 13,
    "start_time": "2022-05-25T21:49:15.799Z"
   },
   {
    "duration": 18,
    "start_time": "2022-05-25T21:49:15.813Z"
   },
   {
    "duration": 35,
    "start_time": "2022-05-25T21:49:15.834Z"
   },
   {
    "duration": 4,
    "start_time": "2022-05-25T21:49:15.871Z"
   },
   {
    "duration": 20,
    "start_time": "2022-05-25T21:49:15.877Z"
   },
   {
    "duration": 237,
    "start_time": "2022-05-25T21:49:15.899Z"
   },
   {
    "duration": 710,
    "start_time": "2022-05-25T21:49:16.139Z"
   },
   {
    "duration": 340,
    "start_time": "2022-05-25T21:49:16.852Z"
   },
   {
    "duration": 542,
    "start_time": "2022-05-25T21:49:17.194Z"
   },
   {
    "duration": 11,
    "start_time": "2022-05-25T21:49:17.738Z"
   },
   {
    "duration": 3,
    "start_time": "2022-05-25T21:49:17.758Z"
   },
   {
    "duration": 19,
    "start_time": "2022-05-25T21:49:17.762Z"
   },
   {
    "duration": 196,
    "start_time": "2022-05-25T21:49:17.783Z"
   },
   {
    "duration": 5,
    "start_time": "2022-05-25T21:49:17.980Z"
   },
   {
    "duration": 628,
    "start_time": "2022-05-25T21:49:17.988Z"
   },
   {
    "duration": 2837,
    "start_time": "2022-05-25T21:49:18.618Z"
   },
   {
    "duration": 3,
    "start_time": "2022-05-25T21:49:21.459Z"
   },
   {
    "duration": 10,
    "start_time": "2022-05-25T21:49:21.464Z"
   },
   {
    "duration": 3,
    "start_time": "2022-05-25T21:49:21.476Z"
   },
   {
    "duration": 242192,
    "start_time": "2022-05-25T21:49:21.480Z"
   },
   {
    "duration": 3,
    "start_time": "2022-05-25T21:53:23.674Z"
   },
   {
    "duration": 87,
    "start_time": "2022-05-25T21:53:23.679Z"
   },
   {
    "duration": 8,
    "start_time": "2022-05-25T21:59:27.850Z"
   },
   {
    "duration": 6,
    "start_time": "2022-05-25T22:00:47.802Z"
   },
   {
    "duration": 18,
    "start_time": "2022-05-25T22:01:42.355Z"
   },
   {
    "duration": 6,
    "start_time": "2022-05-25T22:01:45.690Z"
   },
   {
    "duration": 1311,
    "start_time": "2022-05-25T22:02:03.438Z"
   },
   {
    "duration": 58,
    "start_time": "2022-05-25T22:02:04.751Z"
   },
   {
    "duration": 27,
    "start_time": "2022-05-25T22:02:04.810Z"
   },
   {
    "duration": 10,
    "start_time": "2022-05-25T22:02:04.839Z"
   },
   {
    "duration": 17,
    "start_time": "2022-05-25T22:02:04.852Z"
   },
   {
    "duration": 32,
    "start_time": "2022-05-25T22:02:04.871Z"
   },
   {
    "duration": 6,
    "start_time": "2022-05-25T22:02:04.905Z"
   },
   {
    "duration": 10,
    "start_time": "2022-05-25T22:02:04.913Z"
   },
   {
    "duration": 252,
    "start_time": "2022-05-25T22:02:04.924Z"
   },
   {
    "duration": 697,
    "start_time": "2022-05-25T22:02:05.178Z"
   },
   {
    "duration": 322,
    "start_time": "2022-05-25T22:02:05.877Z"
   },
   {
    "duration": 481,
    "start_time": "2022-05-25T22:02:06.200Z"
   },
   {
    "duration": 13,
    "start_time": "2022-05-25T22:02:06.683Z"
   },
   {
    "duration": 12,
    "start_time": "2022-05-25T22:02:06.698Z"
   },
   {
    "duration": 46,
    "start_time": "2022-05-25T22:02:06.712Z"
   },
   {
    "duration": 176,
    "start_time": "2022-05-25T22:02:06.771Z"
   },
   {
    "duration": 15,
    "start_time": "2022-05-25T22:02:06.949Z"
   },
   {
    "duration": 853,
    "start_time": "2022-05-25T22:02:06.965Z"
   },
   {
    "duration": 3227,
    "start_time": "2022-05-25T22:02:07.820Z"
   },
   {
    "duration": 14,
    "start_time": "2022-05-25T22:02:11.049Z"
   },
   {
    "duration": 25,
    "start_time": "2022-05-25T22:02:11.065Z"
   },
   {
    "duration": 3,
    "start_time": "2022-05-25T22:02:11.092Z"
   },
   {
    "duration": 1271,
    "start_time": "2022-05-25T23:33:52.068Z"
   },
   {
    "duration": 51,
    "start_time": "2022-05-25T23:33:53.341Z"
   },
   {
    "duration": 15,
    "start_time": "2022-05-25T23:33:53.394Z"
   },
   {
    "duration": 9,
    "start_time": "2022-05-25T23:33:53.411Z"
   },
   {
    "duration": 37,
    "start_time": "2022-05-25T23:33:53.423Z"
   },
   {
    "duration": 20,
    "start_time": "2022-05-25T23:33:53.462Z"
   },
   {
    "duration": 3,
    "start_time": "2022-05-25T23:33:53.484Z"
   },
   {
    "duration": 12,
    "start_time": "2022-05-25T23:33:53.488Z"
   },
   {
    "duration": 250,
    "start_time": "2022-05-25T23:33:53.502Z"
   },
   {
    "duration": 277,
    "start_time": "2022-05-25T23:33:53.754Z"
   },
   {
    "duration": 353,
    "start_time": "2022-05-25T23:33:54.033Z"
   },
   {
    "duration": 14,
    "start_time": "2022-05-25T23:33:54.388Z"
   },
   {
    "duration": 6,
    "start_time": "2022-05-25T23:33:54.403Z"
   },
   {
    "duration": 19,
    "start_time": "2022-05-25T23:33:54.412Z"
   },
   {
    "duration": 191,
    "start_time": "2022-05-25T23:33:54.432Z"
   },
   {
    "duration": 2,
    "start_time": "2022-05-25T23:33:54.625Z"
   },
   {
    "duration": 712,
    "start_time": "2022-05-25T23:33:54.629Z"
   },
   {
    "duration": 3058,
    "start_time": "2022-05-25T23:33:55.343Z"
   },
   {
    "duration": 2,
    "start_time": "2022-05-25T23:33:58.403Z"
   },
   {
    "duration": 22,
    "start_time": "2022-05-25T23:33:58.407Z"
   },
   {
    "duration": 20,
    "start_time": "2022-05-25T23:33:58.430Z"
   },
   {
    "duration": 261919,
    "start_time": "2022-05-25T23:33:58.451Z"
   },
   {
    "duration": 3,
    "start_time": "2022-05-25T23:38:20.372Z"
   },
   {
    "duration": 14,
    "start_time": "2022-05-25T23:38:20.376Z"
   },
   {
    "duration": 12,
    "start_time": "2022-05-25T23:38:20.391Z"
   },
   {
    "duration": 9,
    "start_time": "2022-05-25T23:38:20.404Z"
   },
   {
    "duration": 1333,
    "start_time": "2022-05-25T23:40:58.867Z"
   },
   {
    "duration": 51,
    "start_time": "2022-05-25T23:41:00.202Z"
   },
   {
    "duration": 21,
    "start_time": "2022-05-25T23:41:00.254Z"
   },
   {
    "duration": 9,
    "start_time": "2022-05-25T23:41:00.277Z"
   },
   {
    "duration": 19,
    "start_time": "2022-05-25T23:41:00.289Z"
   },
   {
    "duration": 17,
    "start_time": "2022-05-25T23:41:00.310Z"
   },
   {
    "duration": 13,
    "start_time": "2022-05-25T23:41:00.329Z"
   },
   {
    "duration": 15,
    "start_time": "2022-05-25T23:41:00.360Z"
   },
   {
    "duration": 255,
    "start_time": "2022-05-25T23:41:00.376Z"
   },
   {
    "duration": 545,
    "start_time": "2022-05-25T23:41:00.633Z"
   },
   {
    "duration": 613,
    "start_time": "2022-05-25T23:41:01.180Z"
   },
   {
    "duration": 11,
    "start_time": "2022-05-25T23:41:01.794Z"
   },
   {
    "duration": 56,
    "start_time": "2022-05-25T23:41:01.806Z"
   },
   {
    "duration": 52,
    "start_time": "2022-05-25T23:41:01.865Z"
   },
   {
    "duration": 380,
    "start_time": "2022-05-25T23:41:01.919Z"
   },
   {
    "duration": 3,
    "start_time": "2022-05-25T23:41:02.300Z"
   },
   {
    "duration": 980,
    "start_time": "2022-05-25T23:41:02.304Z"
   },
   {
    "duration": 3158,
    "start_time": "2022-05-25T23:41:03.286Z"
   },
   {
    "duration": 2,
    "start_time": "2022-05-25T23:41:06.446Z"
   },
   {
    "duration": 19,
    "start_time": "2022-05-25T23:41:06.450Z"
   },
   {
    "duration": 9,
    "start_time": "2022-05-25T23:41:06.471Z"
   },
   {
    "duration": 51396,
    "start_time": "2022-05-25T23:41:06.482Z"
   },
   {
    "duration": 3,
    "start_time": "2022-05-25T23:41:57.880Z"
   },
   {
    "duration": 11,
    "start_time": "2022-05-25T23:41:57.885Z"
   },
   {
    "duration": 76,
    "start_time": "2022-05-25T23:41:57.897Z"
   },
   {
    "duration": 13,
    "start_time": "2022-05-25T23:41:57.975Z"
   },
   {
    "duration": 5,
    "start_time": "2022-05-25T23:45:35.664Z"
   },
   {
    "duration": 65,
    "start_time": "2022-05-25T23:45:35.671Z"
   },
   {
    "duration": 14,
    "start_time": "2022-05-25T23:45:35.738Z"
   },
   {
    "duration": 16,
    "start_time": "2022-05-25T23:45:35.754Z"
   },
   {
    "duration": 26,
    "start_time": "2022-05-25T23:45:35.772Z"
   },
   {
    "duration": 16,
    "start_time": "2022-05-25T23:45:35.799Z"
   },
   {
    "duration": 17,
    "start_time": "2022-05-25T23:45:35.817Z"
   },
   {
    "duration": 13,
    "start_time": "2022-05-25T23:45:35.836Z"
   },
   {
    "duration": 223,
    "start_time": "2022-05-25T23:45:35.851Z"
   },
   {
    "duration": 225,
    "start_time": "2022-05-25T23:45:44.806Z"
   },
   {
    "duration": 282,
    "start_time": "2022-05-25T23:45:55.168Z"
   },
   {
    "duration": 292,
    "start_time": "2022-05-25T23:46:22.050Z"
   },
   {
    "duration": 190,
    "start_time": "2022-05-25T23:46:51.196Z"
   },
   {
    "duration": 236,
    "start_time": "2022-05-25T23:47:01.763Z"
   },
   {
    "duration": 310,
    "start_time": "2022-05-25T23:47:14.965Z"
   },
   {
    "duration": 176,
    "start_time": "2022-05-25T23:47:16.244Z"
   },
   {
    "duration": 202,
    "start_time": "2022-05-25T23:47:30.176Z"
   },
   {
    "duration": 277,
    "start_time": "2022-05-25T23:48:03.713Z"
   },
   {
    "duration": 364,
    "start_time": "2022-05-25T23:50:29.572Z"
   },
   {
    "duration": 602,
    "start_time": "2022-05-25T23:50:49.042Z"
   },
   {
    "duration": 12,
    "start_time": "2022-05-25T23:53:04.916Z"
   },
   {
    "duration": 47,
    "start_time": "2022-05-25T23:53:35.568Z"
   },
   {
    "duration": 414,
    "start_time": "2022-05-25T23:54:00.717Z"
   },
   {
    "duration": 4,
    "start_time": "2022-05-25T23:54:27.688Z"
   },
   {
    "duration": 50,
    "start_time": "2022-05-25T23:54:27.694Z"
   },
   {
    "duration": 11,
    "start_time": "2022-05-25T23:54:27.745Z"
   },
   {
    "duration": 17,
    "start_time": "2022-05-25T23:54:27.758Z"
   },
   {
    "duration": 24,
    "start_time": "2022-05-25T23:54:27.777Z"
   },
   {
    "duration": 13,
    "start_time": "2022-05-25T23:54:27.803Z"
   },
   {
    "duration": 13,
    "start_time": "2022-05-25T23:54:27.818Z"
   },
   {
    "duration": 14,
    "start_time": "2022-05-25T23:54:27.833Z"
   },
   {
    "duration": 231,
    "start_time": "2022-05-25T23:54:27.848Z"
   },
   {
    "duration": 299,
    "start_time": "2022-05-25T23:54:28.081Z"
   },
   {
    "duration": 642,
    "start_time": "2022-05-25T23:54:28.382Z"
   },
   {
    "duration": 7,
    "start_time": "2022-05-25T23:54:33.202Z"
   },
   {
    "duration": 4,
    "start_time": "2022-05-25T23:55:16.979Z"
   },
   {
    "duration": 69,
    "start_time": "2022-05-25T23:55:16.984Z"
   },
   {
    "duration": 16,
    "start_time": "2022-05-25T23:55:17.054Z"
   },
   {
    "duration": 34,
    "start_time": "2022-05-25T23:55:17.072Z"
   },
   {
    "duration": 33,
    "start_time": "2022-05-25T23:55:17.108Z"
   },
   {
    "duration": 40,
    "start_time": "2022-05-25T23:55:17.143Z"
   },
   {
    "duration": 21,
    "start_time": "2022-05-25T23:55:17.185Z"
   },
   {
    "duration": 29,
    "start_time": "2022-05-25T23:55:17.209Z"
   },
   {
    "duration": 207,
    "start_time": "2022-05-25T23:55:17.240Z"
   },
   {
    "duration": 297,
    "start_time": "2022-05-25T23:55:17.449Z"
   },
   {
    "duration": 479,
    "start_time": "2022-05-25T23:55:17.748Z"
   },
   {
    "duration": 13,
    "start_time": "2022-05-25T23:55:23.403Z"
   },
   {
    "duration": 11,
    "start_time": "2022-05-25T23:56:00.871Z"
   },
   {
    "duration": 3,
    "start_time": "2022-05-25T23:56:19.819Z"
   },
   {
    "duration": 61,
    "start_time": "2022-05-25T23:56:19.824Z"
   },
   {
    "duration": 11,
    "start_time": "2022-05-25T23:56:19.887Z"
   },
   {
    "duration": 29,
    "start_time": "2022-05-25T23:56:19.900Z"
   },
   {
    "duration": 24,
    "start_time": "2022-05-25T23:56:19.930Z"
   },
   {
    "duration": 13,
    "start_time": "2022-05-25T23:56:19.956Z"
   },
   {
    "duration": 7,
    "start_time": "2022-05-25T23:56:19.971Z"
   },
   {
    "duration": 15,
    "start_time": "2022-05-25T23:56:19.979Z"
   },
   {
    "duration": 208,
    "start_time": "2022-05-25T23:56:19.996Z"
   },
   {
    "duration": 364,
    "start_time": "2022-05-25T23:56:20.205Z"
   },
   {
    "duration": 455,
    "start_time": "2022-05-25T23:56:20.571Z"
   },
   {
    "duration": 320,
    "start_time": "2022-05-25T23:56:27.006Z"
   },
   {
    "duration": 1266,
    "start_time": "2022-05-25T23:57:03.060Z"
   },
   {
    "duration": 52,
    "start_time": "2022-05-25T23:57:04.328Z"
   },
   {
    "duration": 13,
    "start_time": "2022-05-25T23:57:04.382Z"
   },
   {
    "duration": 8,
    "start_time": "2022-05-25T23:57:04.397Z"
   },
   {
    "duration": 15,
    "start_time": "2022-05-25T23:57:04.406Z"
   },
   {
    "duration": 44,
    "start_time": "2022-05-25T23:57:04.422Z"
   },
   {
    "duration": 4,
    "start_time": "2022-05-25T23:57:04.467Z"
   },
   {
    "duration": 12,
    "start_time": "2022-05-25T23:57:04.472Z"
   },
   {
    "duration": 239,
    "start_time": "2022-05-25T23:57:04.485Z"
   },
   {
    "duration": 294,
    "start_time": "2022-05-25T23:57:04.726Z"
   },
   {
    "duration": 495,
    "start_time": "2022-05-25T23:57:05.021Z"
   },
   {
    "duration": 130,
    "start_time": "2022-05-25T23:57:05.518Z"
   },
   {
    "duration": 0,
    "start_time": "2022-05-25T23:57:05.650Z"
   },
   {
    "duration": 0,
    "start_time": "2022-05-25T23:57:05.651Z"
   },
   {
    "duration": 0,
    "start_time": "2022-05-25T23:57:05.659Z"
   },
   {
    "duration": 0,
    "start_time": "2022-05-25T23:57:05.660Z"
   },
   {
    "duration": 0,
    "start_time": "2022-05-25T23:57:05.661Z"
   },
   {
    "duration": 0,
    "start_time": "2022-05-25T23:57:05.662Z"
   },
   {
    "duration": 0,
    "start_time": "2022-05-25T23:57:05.664Z"
   },
   {
    "duration": 0,
    "start_time": "2022-05-25T23:57:05.665Z"
   },
   {
    "duration": 0,
    "start_time": "2022-05-25T23:57:05.666Z"
   },
   {
    "duration": 0,
    "start_time": "2022-05-25T23:57:05.667Z"
   },
   {
    "duration": 0,
    "start_time": "2022-05-25T23:57:05.668Z"
   },
   {
    "duration": 0,
    "start_time": "2022-05-25T23:57:05.670Z"
   },
   {
    "duration": 0,
    "start_time": "2022-05-25T23:57:05.671Z"
   },
   {
    "duration": 0,
    "start_time": "2022-05-25T23:57:05.672Z"
   },
   {
    "duration": 0,
    "start_time": "2022-05-25T23:57:05.673Z"
   },
   {
    "duration": 21,
    "start_time": "2022-05-25T23:57:43.075Z"
   },
   {
    "duration": 1199,
    "start_time": "2022-05-25T23:58:04.183Z"
   },
   {
    "duration": 50,
    "start_time": "2022-05-25T23:58:05.384Z"
   },
   {
    "duration": 14,
    "start_time": "2022-05-25T23:58:05.435Z"
   },
   {
    "duration": 11,
    "start_time": "2022-05-25T23:58:05.451Z"
   },
   {
    "duration": 14,
    "start_time": "2022-05-25T23:58:05.465Z"
   },
   {
    "duration": 16,
    "start_time": "2022-05-25T23:58:05.480Z"
   },
   {
    "duration": 4,
    "start_time": "2022-05-25T23:58:05.497Z"
   },
   {
    "duration": 9,
    "start_time": "2022-05-25T23:58:05.503Z"
   },
   {
    "duration": 260,
    "start_time": "2022-05-25T23:58:05.513Z"
   },
   {
    "duration": 329,
    "start_time": "2022-05-25T23:58:05.775Z"
   },
   {
    "duration": 898,
    "start_time": "2022-05-25T23:58:06.106Z"
   },
   {
    "duration": 795,
    "start_time": "2022-05-25T23:58:07.006Z"
   },
   {
    "duration": 65,
    "start_time": "2022-05-25T23:58:07.802Z"
   },
   {
    "duration": 3,
    "start_time": "2022-05-25T23:58:07.870Z"
   },
   {
    "duration": 19,
    "start_time": "2022-05-25T23:58:07.874Z"
   },
   {
    "duration": 286,
    "start_time": "2022-05-25T23:58:07.894Z"
   },
   {
    "duration": 3,
    "start_time": "2022-05-25T23:58:08.181Z"
   },
   {
    "duration": 1111,
    "start_time": "2022-05-25T23:58:08.185Z"
   },
   {
    "duration": 2635,
    "start_time": "2022-05-25T23:58:09.298Z"
   },
   {
    "duration": 2,
    "start_time": "2022-05-25T23:58:11.935Z"
   },
   {
    "duration": 19,
    "start_time": "2022-05-25T23:58:11.939Z"
   },
   {
    "duration": 3,
    "start_time": "2022-05-25T23:58:11.960Z"
   },
   {
    "duration": 37402,
    "start_time": "2022-05-25T23:58:11.964Z"
   },
   {
    "duration": 3,
    "start_time": "2022-05-25T23:58:49.368Z"
   },
   {
    "duration": 86,
    "start_time": "2022-05-25T23:58:49.373Z"
   },
   {
    "duration": 11,
    "start_time": "2022-05-25T23:58:49.461Z"
   },
   {
    "duration": 7,
    "start_time": "2022-05-25T23:58:49.474Z"
   },
   {
    "duration": 3,
    "start_time": "2022-05-26T00:06:34.173Z"
   },
   {
    "duration": 83,
    "start_time": "2022-05-26T00:06:34.178Z"
   },
   {
    "duration": 22,
    "start_time": "2022-05-26T00:06:34.262Z"
   },
   {
    "duration": 30,
    "start_time": "2022-05-26T00:06:34.286Z"
   },
   {
    "duration": 12,
    "start_time": "2022-05-26T00:06:38.407Z"
   },
   {
    "duration": 1294,
    "start_time": "2022-05-26T03:14:25.532Z"
   },
   {
    "duration": 153,
    "start_time": "2022-05-26T03:14:26.828Z"
   },
   {
    "duration": 17,
    "start_time": "2022-05-26T03:14:27.125Z"
   },
   {
    "duration": 8,
    "start_time": "2022-05-26T03:14:27.849Z"
   },
   {
    "duration": 12,
    "start_time": "2022-05-26T03:14:28.708Z"
   },
   {
    "duration": 21,
    "start_time": "2022-05-26T03:14:28.949Z"
   },
   {
    "duration": 16,
    "start_time": "2022-05-26T03:14:29.294Z"
   },
   {
    "duration": 5,
    "start_time": "2022-05-26T03:14:31.034Z"
   },
   {
    "duration": 9,
    "start_time": "2022-05-26T03:14:31.579Z"
   },
   {
    "duration": 292,
    "start_time": "2022-05-26T03:14:57.578Z"
   },
   {
    "duration": 338,
    "start_time": "2022-05-26T03:14:58.648Z"
   },
   {
    "duration": 557,
    "start_time": "2022-05-26T03:14:59.183Z"
   },
   {
    "duration": 435,
    "start_time": "2022-05-26T03:14:59.877Z"
   },
   {
    "duration": 12,
    "start_time": "2022-05-26T03:17:11.217Z"
   },
   {
    "duration": 12,
    "start_time": "2022-05-26T03:17:20.429Z"
   },
   {
    "duration": 1558,
    "start_time": "2022-05-26T19:54:28.285Z"
   },
   {
    "duration": 365,
    "start_time": "2022-05-26T19:54:29.845Z"
   },
   {
    "duration": 50,
    "start_time": "2022-05-26T19:54:30.212Z"
   },
   {
    "duration": 13,
    "start_time": "2022-05-26T19:54:30.266Z"
   },
   {
    "duration": 35,
    "start_time": "2022-05-26T19:54:30.282Z"
   },
   {
    "duration": 53,
    "start_time": "2022-05-26T19:54:30.318Z"
   },
   {
    "duration": 21,
    "start_time": "2022-05-26T19:54:30.373Z"
   },
   {
    "duration": 13,
    "start_time": "2022-05-26T19:54:30.397Z"
   },
   {
    "duration": 60,
    "start_time": "2022-05-26T19:54:30.412Z"
   },
   {
    "duration": 695,
    "start_time": "2022-05-26T19:54:30.481Z"
   },
   {
    "duration": 832,
    "start_time": "2022-05-26T19:54:31.182Z"
   },
   {
    "duration": 727,
    "start_time": "2022-05-26T19:54:32.016Z"
   },
   {
    "duration": 477,
    "start_time": "2022-05-26T19:54:32.746Z"
   },
   {
    "duration": 807,
    "start_time": "2022-05-26T19:54:33.225Z"
   },
   {
    "duration": 10,
    "start_time": "2022-05-26T19:54:34.033Z"
   },
   {
    "duration": 13,
    "start_time": "2022-05-26T19:54:34.061Z"
   },
   {
    "duration": 28,
    "start_time": "2022-05-26T19:54:34.076Z"
   },
   {
    "duration": 136,
    "start_time": "2022-05-26T19:54:34.105Z"
   },
   {
    "duration": 1,
    "start_time": "2022-05-26T19:54:34.242Z"
   },
   {
    "duration": 0,
    "start_time": "2022-05-26T19:54:34.244Z"
   },
   {
    "duration": 0,
    "start_time": "2022-05-26T19:54:34.245Z"
   },
   {
    "duration": 0,
    "start_time": "2022-05-26T19:54:34.246Z"
   },
   {
    "duration": 0,
    "start_time": "2022-05-26T19:54:34.247Z"
   },
   {
    "duration": 0,
    "start_time": "2022-05-26T19:54:34.259Z"
   },
   {
    "duration": 0,
    "start_time": "2022-05-26T19:54:34.260Z"
   },
   {
    "duration": 0,
    "start_time": "2022-05-26T19:54:34.260Z"
   },
   {
    "duration": 0,
    "start_time": "2022-05-26T19:54:34.261Z"
   },
   {
    "duration": 0,
    "start_time": "2022-05-26T19:54:34.261Z"
   },
   {
    "duration": 0,
    "start_time": "2022-05-26T19:54:34.274Z"
   },
   {
    "duration": 0,
    "start_time": "2022-05-26T19:54:34.275Z"
   },
   {
    "duration": 4,
    "start_time": "2022-05-26T19:55:19.605Z"
   },
   {
    "duration": 93,
    "start_time": "2022-05-26T19:55:19.611Z"
   },
   {
    "duration": 12,
    "start_time": "2022-05-26T19:55:19.706Z"
   },
   {
    "duration": 22,
    "start_time": "2022-05-26T19:55:19.720Z"
   },
   {
    "duration": 52,
    "start_time": "2022-05-26T19:55:19.744Z"
   },
   {
    "duration": 25,
    "start_time": "2022-05-26T19:55:19.798Z"
   },
   {
    "duration": 19,
    "start_time": "2022-05-26T19:55:19.825Z"
   },
   {
    "duration": 23,
    "start_time": "2022-05-26T19:55:19.855Z"
   },
   {
    "duration": 20,
    "start_time": "2022-05-26T19:55:19.886Z"
   },
   {
    "duration": 260,
    "start_time": "2022-05-26T19:55:19.908Z"
   },
   {
    "duration": 343,
    "start_time": "2022-05-26T19:55:20.171Z"
   },
   {
    "duration": 650,
    "start_time": "2022-05-26T19:55:20.515Z"
   },
   {
    "duration": 331,
    "start_time": "2022-05-26T19:55:21.167Z"
   },
   {
    "duration": 23,
    "start_time": "2022-05-26T19:55:23.683Z"
   },
   {
    "duration": 29,
    "start_time": "2022-05-26T19:56:07.318Z"
   },
   {
    "duration": 723,
    "start_time": "2022-05-26T19:56:19.730Z"
   },
   {
    "duration": 1258,
    "start_time": "2022-05-26T19:57:29.379Z"
   },
   {
    "duration": 67,
    "start_time": "2022-05-26T19:57:30.639Z"
   },
   {
    "duration": 12,
    "start_time": "2022-05-26T19:57:30.708Z"
   },
   {
    "duration": 24,
    "start_time": "2022-05-26T19:57:30.722Z"
   },
   {
    "duration": 38,
    "start_time": "2022-05-26T19:57:30.749Z"
   },
   {
    "duration": 21,
    "start_time": "2022-05-26T19:57:30.789Z"
   },
   {
    "duration": 55,
    "start_time": "2022-05-26T19:57:30.811Z"
   },
   {
    "duration": 36,
    "start_time": "2022-05-26T19:57:30.871Z"
   },
   {
    "duration": 43,
    "start_time": "2022-05-26T19:57:30.909Z"
   },
   {
    "duration": 255,
    "start_time": "2022-05-26T19:57:30.953Z"
   },
   {
    "duration": 304,
    "start_time": "2022-05-26T19:57:31.210Z"
   },
   {
    "duration": 648,
    "start_time": "2022-05-26T19:57:31.517Z"
   },
   {
    "duration": 1102,
    "start_time": "2022-05-26T19:57:32.167Z"
   },
   {
    "duration": 1090,
    "start_time": "2022-05-26T19:57:33.272Z"
   },
   {
    "duration": 16,
    "start_time": "2022-05-26T19:57:34.366Z"
   },
   {
    "duration": 20,
    "start_time": "2022-05-26T19:57:34.384Z"
   },
   {
    "duration": 24,
    "start_time": "2022-05-26T19:57:34.405Z"
   },
   {
    "duration": 161,
    "start_time": "2022-05-26T19:57:34.431Z"
   },
   {
    "duration": 0,
    "start_time": "2022-05-26T19:57:34.593Z"
   },
   {
    "duration": 0,
    "start_time": "2022-05-26T19:57:34.594Z"
   },
   {
    "duration": 0,
    "start_time": "2022-05-26T19:57:34.595Z"
   },
   {
    "duration": 0,
    "start_time": "2022-05-26T19:57:34.596Z"
   },
   {
    "duration": 0,
    "start_time": "2022-05-26T19:57:34.597Z"
   },
   {
    "duration": 0,
    "start_time": "2022-05-26T19:57:34.598Z"
   },
   {
    "duration": 0,
    "start_time": "2022-05-26T19:57:34.599Z"
   },
   {
    "duration": 0,
    "start_time": "2022-05-26T19:57:34.601Z"
   },
   {
    "duration": 0,
    "start_time": "2022-05-26T19:57:34.601Z"
   },
   {
    "duration": 0,
    "start_time": "2022-05-26T19:57:34.603Z"
   },
   {
    "duration": 0,
    "start_time": "2022-05-26T19:57:34.604Z"
   },
   {
    "duration": 0,
    "start_time": "2022-05-26T19:57:34.606Z"
   },
   {
    "duration": 4,
    "start_time": "2022-05-26T20:00:44.644Z"
   },
   {
    "duration": 4,
    "start_time": "2022-05-26T20:01:00.116Z"
   },
   {
    "duration": 8,
    "start_time": "2022-05-26T20:11:38.896Z"
   },
   {
    "duration": 7,
    "start_time": "2022-05-26T20:12:02.488Z"
   },
   {
    "duration": 10,
    "start_time": "2022-05-26T20:12:23.936Z"
   },
   {
    "duration": 7,
    "start_time": "2022-05-26T20:12:28.775Z"
   },
   {
    "duration": 8,
    "start_time": "2022-05-26T20:12:57.854Z"
   },
   {
    "duration": 5,
    "start_time": "2022-05-26T20:13:03.246Z"
   },
   {
    "duration": 1516,
    "start_time": "2022-05-26T20:15:12.137Z"
   },
   {
    "duration": 79,
    "start_time": "2022-05-26T20:15:13.656Z"
   },
   {
    "duration": 19,
    "start_time": "2022-05-26T20:15:13.737Z"
   },
   {
    "duration": 23,
    "start_time": "2022-05-26T20:15:13.759Z"
   },
   {
    "duration": 45,
    "start_time": "2022-05-26T20:15:13.784Z"
   },
   {
    "duration": 36,
    "start_time": "2022-05-26T20:15:13.831Z"
   },
   {
    "duration": 51,
    "start_time": "2022-05-26T20:15:13.874Z"
   },
   {
    "duration": 8,
    "start_time": "2022-05-26T20:15:13.929Z"
   },
   {
    "duration": 52,
    "start_time": "2022-05-26T20:15:13.938Z"
   },
   {
    "duration": 297,
    "start_time": "2022-05-26T20:15:13.994Z"
   },
   {
    "duration": 309,
    "start_time": "2022-05-26T20:15:14.293Z"
   },
   {
    "duration": 598,
    "start_time": "2022-05-26T20:15:14.604Z"
   },
   {
    "duration": 496,
    "start_time": "2022-05-26T20:15:15.204Z"
   },
   {
    "duration": 849,
    "start_time": "2022-05-26T20:15:15.702Z"
   },
   {
    "duration": 6,
    "start_time": "2022-05-26T20:15:16.560Z"
   },
   {
    "duration": 27,
    "start_time": "2022-05-26T20:15:16.574Z"
   },
   {
    "duration": 3,
    "start_time": "2022-05-26T20:15:16.604Z"
   },
   {
    "duration": 189,
    "start_time": "2022-05-26T20:15:16.609Z"
   },
   {
    "duration": 0,
    "start_time": "2022-05-26T20:15:16.800Z"
   },
   {
    "duration": 0,
    "start_time": "2022-05-26T20:15:16.801Z"
   },
   {
    "duration": 0,
    "start_time": "2022-05-26T20:15:16.803Z"
   },
   {
    "duration": 0,
    "start_time": "2022-05-26T20:15:16.804Z"
   },
   {
    "duration": 0,
    "start_time": "2022-05-26T20:15:16.805Z"
   },
   {
    "duration": 0,
    "start_time": "2022-05-26T20:15:16.805Z"
   },
   {
    "duration": 0,
    "start_time": "2022-05-26T20:15:16.807Z"
   },
   {
    "duration": 0,
    "start_time": "2022-05-26T20:15:16.808Z"
   },
   {
    "duration": 0,
    "start_time": "2022-05-26T20:15:16.809Z"
   },
   {
    "duration": 0,
    "start_time": "2022-05-26T20:15:16.809Z"
   },
   {
    "duration": 0,
    "start_time": "2022-05-26T20:15:16.811Z"
   },
   {
    "duration": 0,
    "start_time": "2022-05-26T20:15:16.811Z"
   },
   {
    "duration": 1395,
    "start_time": "2022-05-26T20:15:57.840Z"
   },
   {
    "duration": 73,
    "start_time": "2022-05-26T20:15:59.238Z"
   },
   {
    "duration": 20,
    "start_time": "2022-05-26T20:15:59.313Z"
   },
   {
    "duration": 9,
    "start_time": "2022-05-26T20:15:59.335Z"
   },
   {
    "duration": 36,
    "start_time": "2022-05-26T20:15:59.346Z"
   },
   {
    "duration": 18,
    "start_time": "2022-05-26T20:15:59.385Z"
   },
   {
    "duration": 15,
    "start_time": "2022-05-26T20:15:59.405Z"
   },
   {
    "duration": 6,
    "start_time": "2022-05-26T20:15:59.422Z"
   },
   {
    "duration": 36,
    "start_time": "2022-05-26T20:15:59.430Z"
   },
   {
    "duration": 251,
    "start_time": "2022-05-26T20:15:59.470Z"
   },
   {
    "duration": 462,
    "start_time": "2022-05-26T20:15:59.723Z"
   },
   {
    "duration": 582,
    "start_time": "2022-05-26T20:16:00.187Z"
   },
   {
    "duration": 808,
    "start_time": "2022-05-26T20:16:00.776Z"
   },
   {
    "duration": 1877,
    "start_time": "2022-05-26T20:16:01.586Z"
   },
   {
    "duration": 14,
    "start_time": "2022-05-26T20:16:03.467Z"
   },
   {
    "duration": 20,
    "start_time": "2022-05-26T20:16:03.486Z"
   },
   {
    "duration": 54,
    "start_time": "2022-05-26T20:16:03.509Z"
   },
   {
    "duration": 47,
    "start_time": "2022-05-26T20:16:03.566Z"
   },
   {
    "duration": 406,
    "start_time": "2022-05-26T20:16:03.616Z"
   },
   {
    "duration": 3,
    "start_time": "2022-05-26T20:16:04.024Z"
   },
   {
    "duration": 591,
    "start_time": "2022-05-26T20:16:04.029Z"
   },
   {
    "duration": 2492,
    "start_time": "2022-05-26T20:16:04.622Z"
   },
   {
    "duration": 3,
    "start_time": "2022-05-26T20:16:07.115Z"
   },
   {
    "duration": 22,
    "start_time": "2022-05-26T20:16:07.121Z"
   },
   {
    "duration": 21,
    "start_time": "2022-05-26T20:16:07.146Z"
   },
   {
    "duration": 1403,
    "start_time": "2022-05-26T20:18:37.450Z"
   },
   {
    "duration": 65,
    "start_time": "2022-05-26T20:18:38.855Z"
   },
   {
    "duration": 12,
    "start_time": "2022-05-26T20:18:38.922Z"
   },
   {
    "duration": 10,
    "start_time": "2022-05-26T20:18:38.935Z"
   },
   {
    "duration": 19,
    "start_time": "2022-05-26T20:18:38.947Z"
   },
   {
    "duration": 17,
    "start_time": "2022-05-26T20:18:38.969Z"
   },
   {
    "duration": 21,
    "start_time": "2022-05-26T20:18:38.989Z"
   },
   {
    "duration": 4,
    "start_time": "2022-05-26T20:18:39.012Z"
   },
   {
    "duration": 15,
    "start_time": "2022-05-26T20:18:39.018Z"
   },
   {
    "duration": 264,
    "start_time": "2022-05-26T20:18:39.036Z"
   },
   {
    "duration": 320,
    "start_time": "2022-05-26T20:18:39.302Z"
   },
   {
    "duration": 540,
    "start_time": "2022-05-26T20:18:39.624Z"
   },
   {
    "duration": 431,
    "start_time": "2022-05-26T20:18:40.171Z"
   },
   {
    "duration": 1758,
    "start_time": "2022-05-26T20:18:40.607Z"
   },
   {
    "duration": 18,
    "start_time": "2022-05-26T20:18:42.367Z"
   },
   {
    "duration": 82,
    "start_time": "2022-05-26T20:18:42.391Z"
   },
   {
    "duration": 19,
    "start_time": "2022-05-26T20:18:42.476Z"
   },
   {
    "duration": 75,
    "start_time": "2022-05-26T20:18:42.499Z"
   },
   {
    "duration": 444,
    "start_time": "2022-05-26T20:18:42.577Z"
   },
   {
    "duration": 12,
    "start_time": "2022-05-26T20:18:43.063Z"
   },
   {
    "duration": 1345,
    "start_time": "2022-05-26T20:18:43.078Z"
   },
   {
    "duration": 3570,
    "start_time": "2022-05-26T20:18:44.425Z"
   },
   {
    "duration": 4,
    "start_time": "2022-05-26T20:18:47.997Z"
   },
   {
    "duration": 20,
    "start_time": "2022-05-26T20:18:48.004Z"
   },
   {
    "duration": 34,
    "start_time": "2022-05-26T20:18:48.028Z"
   },
   {
    "duration": 282212,
    "start_time": "2022-05-26T20:18:48.065Z"
   },
   {
    "duration": 3,
    "start_time": "2022-05-26T20:23:30.281Z"
   },
   {
    "duration": 24,
    "start_time": "2022-05-26T20:23:30.286Z"
   },
   {
    "duration": 19,
    "start_time": "2022-05-26T20:23:30.312Z"
   },
   {
    "duration": 11,
    "start_time": "2022-05-26T20:23:30.332Z"
   },
   {
    "duration": 1244,
    "start_time": "2022-05-26T20:25:20.704Z"
   },
   {
    "duration": 50,
    "start_time": "2022-05-26T20:25:21.951Z"
   },
   {
    "duration": 13,
    "start_time": "2022-05-26T20:25:22.003Z"
   },
   {
    "duration": 12,
    "start_time": "2022-05-26T20:25:22.018Z"
   },
   {
    "duration": 16,
    "start_time": "2022-05-26T20:25:22.032Z"
   },
   {
    "duration": 23,
    "start_time": "2022-05-26T20:25:22.050Z"
   },
   {
    "duration": 18,
    "start_time": "2022-05-26T20:25:22.074Z"
   },
   {
    "duration": 12,
    "start_time": "2022-05-26T20:25:22.094Z"
   },
   {
    "duration": 11,
    "start_time": "2022-05-26T20:25:22.108Z"
   },
   {
    "duration": 228,
    "start_time": "2022-05-26T20:25:22.123Z"
   },
   {
    "duration": 268,
    "start_time": "2022-05-26T20:25:22.360Z"
   },
   {
    "duration": 512,
    "start_time": "2022-05-26T20:25:22.630Z"
   },
   {
    "duration": 386,
    "start_time": "2022-05-26T20:25:23.143Z"
   },
   {
    "duration": 736,
    "start_time": "2022-05-26T20:25:23.531Z"
   },
   {
    "duration": 152,
    "start_time": "2022-05-26T20:25:24.269Z"
   },
   {
    "duration": 0,
    "start_time": "2022-05-26T20:25:24.423Z"
   },
   {
    "duration": 0,
    "start_time": "2022-05-26T20:25:24.424Z"
   },
   {
    "duration": 0,
    "start_time": "2022-05-26T20:25:24.426Z"
   },
   {
    "duration": 0,
    "start_time": "2022-05-26T20:25:24.428Z"
   },
   {
    "duration": 0,
    "start_time": "2022-05-26T20:25:24.429Z"
   },
   {
    "duration": 0,
    "start_time": "2022-05-26T20:25:24.431Z"
   },
   {
    "duration": 0,
    "start_time": "2022-05-26T20:25:24.433Z"
   },
   {
    "duration": 0,
    "start_time": "2022-05-26T20:25:24.434Z"
   },
   {
    "duration": 0,
    "start_time": "2022-05-26T20:25:24.460Z"
   },
   {
    "duration": 0,
    "start_time": "2022-05-26T20:25:24.461Z"
   },
   {
    "duration": 0,
    "start_time": "2022-05-26T20:25:24.464Z"
   },
   {
    "duration": 0,
    "start_time": "2022-05-26T20:25:24.466Z"
   },
   {
    "duration": 0,
    "start_time": "2022-05-26T20:25:24.468Z"
   },
   {
    "duration": 0,
    "start_time": "2022-05-26T20:25:24.469Z"
   },
   {
    "duration": 0,
    "start_time": "2022-05-26T20:25:24.471Z"
   },
   {
    "duration": 17,
    "start_time": "2022-05-26T20:25:41.017Z"
   },
   {
    "duration": 18,
    "start_time": "2022-05-26T20:26:09.298Z"
   },
   {
    "duration": 37,
    "start_time": "2022-05-26T20:26:17.522Z"
   },
   {
    "duration": 2263,
    "start_time": "2022-05-26T20:26:21.805Z"
   },
   {
    "duration": 114,
    "start_time": "2022-05-26T20:26:24.071Z"
   },
   {
    "duration": 15,
    "start_time": "2022-05-26T20:26:24.187Z"
   },
   {
    "duration": 9,
    "start_time": "2022-05-26T20:26:24.260Z"
   },
   {
    "duration": 16,
    "start_time": "2022-05-26T20:26:24.272Z"
   },
   {
    "duration": 76,
    "start_time": "2022-05-26T20:26:24.290Z"
   },
   {
    "duration": 20,
    "start_time": "2022-05-26T20:26:24.368Z"
   },
   {
    "duration": 8,
    "start_time": "2022-05-26T20:26:24.390Z"
   },
   {
    "duration": 67,
    "start_time": "2022-05-26T20:26:24.399Z"
   },
   {
    "duration": 210,
    "start_time": "2022-05-26T20:26:24.468Z"
   },
   {
    "duration": 286,
    "start_time": "2022-05-26T20:26:24.679Z"
   },
   {
    "duration": 482,
    "start_time": "2022-05-26T20:26:24.966Z"
   },
   {
    "duration": 399,
    "start_time": "2022-05-26T20:26:25.449Z"
   },
   {
    "duration": 713,
    "start_time": "2022-05-26T20:26:25.850Z"
   },
   {
    "duration": 42,
    "start_time": "2022-05-26T20:26:26.564Z"
   },
   {
    "duration": 10,
    "start_time": "2022-05-26T20:26:26.608Z"
   },
   {
    "duration": 2,
    "start_time": "2022-05-26T20:26:26.620Z"
   },
   {
    "duration": 65,
    "start_time": "2022-05-26T20:26:26.624Z"
   },
   {
    "duration": 481,
    "start_time": "2022-05-26T20:26:26.691Z"
   },
   {
    "duration": 3,
    "start_time": "2022-05-26T20:26:27.173Z"
   },
   {
    "duration": 1917,
    "start_time": "2022-05-26T20:26:27.178Z"
   },
   {
    "duration": 8648,
    "start_time": "2022-05-26T20:26:29.096Z"
   },
   {
    "duration": 3,
    "start_time": "2022-05-26T20:26:37.745Z"
   },
   {
    "duration": 103,
    "start_time": "2022-05-26T20:26:37.759Z"
   },
   {
    "duration": 112,
    "start_time": "2022-05-26T20:26:37.865Z"
   },
   {
    "duration": 14043,
    "start_time": "2022-05-26T20:26:37.980Z"
   },
   {
    "duration": 0,
    "start_time": "2022-05-26T20:26:52.026Z"
   },
   {
    "duration": 0,
    "start_time": "2022-05-26T20:26:52.027Z"
   },
   {
    "duration": 0,
    "start_time": "2022-05-26T20:26:52.029Z"
   },
   {
    "duration": 0,
    "start_time": "2022-05-26T20:26:52.030Z"
   },
   {
    "duration": 1286,
    "start_time": "2022-05-26T20:27:12.036Z"
   },
   {
    "duration": 49,
    "start_time": "2022-05-26T20:27:13.324Z"
   },
   {
    "duration": 11,
    "start_time": "2022-05-26T20:27:13.375Z"
   },
   {
    "duration": 8,
    "start_time": "2022-05-26T20:27:13.389Z"
   },
   {
    "duration": 16,
    "start_time": "2022-05-26T20:27:13.398Z"
   },
   {
    "duration": 13,
    "start_time": "2022-05-26T20:27:13.416Z"
   },
   {
    "duration": 45,
    "start_time": "2022-05-26T20:27:13.431Z"
   },
   {
    "duration": 3,
    "start_time": "2022-05-26T20:27:13.478Z"
   },
   {
    "duration": 10,
    "start_time": "2022-05-26T20:27:13.483Z"
   },
   {
    "duration": 260,
    "start_time": "2022-05-26T20:27:13.496Z"
   },
   {
    "duration": 305,
    "start_time": "2022-05-26T20:27:13.758Z"
   },
   {
    "duration": 615,
    "start_time": "2022-05-26T20:27:14.064Z"
   },
   {
    "duration": 790,
    "start_time": "2022-05-26T20:27:14.681Z"
   },
   {
    "duration": 1261,
    "start_time": "2022-05-26T20:27:15.474Z"
   },
   {
    "duration": 45,
    "start_time": "2022-05-26T20:27:16.737Z"
   },
   {
    "duration": 10,
    "start_time": "2022-05-26T20:27:16.784Z"
   },
   {
    "duration": 7,
    "start_time": "2022-05-26T20:27:16.796Z"
   },
   {
    "duration": 33,
    "start_time": "2022-05-26T20:27:16.805Z"
   },
   {
    "duration": 357,
    "start_time": "2022-05-26T20:27:16.840Z"
   },
   {
    "duration": 3,
    "start_time": "2022-05-26T20:27:17.199Z"
   },
   {
    "duration": 1408,
    "start_time": "2022-05-26T20:27:17.204Z"
   },
   {
    "duration": 6261,
    "start_time": "2022-05-26T20:27:18.613Z"
   },
   {
    "duration": 6,
    "start_time": "2022-05-26T20:27:24.876Z"
   },
   {
    "duration": 22,
    "start_time": "2022-05-26T20:27:24.884Z"
   },
   {
    "duration": 157,
    "start_time": "2022-05-26T20:27:24.908Z"
   },
   {
    "duration": 1205,
    "start_time": "2022-05-26T20:27:53.806Z"
   },
   {
    "duration": 50,
    "start_time": "2022-05-26T20:27:55.013Z"
   },
   {
    "duration": 12,
    "start_time": "2022-05-26T20:27:55.065Z"
   },
   {
    "duration": 7,
    "start_time": "2022-05-26T20:27:55.080Z"
   },
   {
    "duration": 11,
    "start_time": "2022-05-26T20:27:55.089Z"
   },
   {
    "duration": 14,
    "start_time": "2022-05-26T20:27:55.102Z"
   },
   {
    "duration": 50,
    "start_time": "2022-05-26T20:27:55.118Z"
   },
   {
    "duration": 16,
    "start_time": "2022-05-26T20:27:55.170Z"
   },
   {
    "duration": 10,
    "start_time": "2022-05-26T20:27:55.188Z"
   },
   {
    "duration": 235,
    "start_time": "2022-05-26T20:27:55.200Z"
   },
   {
    "duration": 457,
    "start_time": "2022-05-26T20:27:55.436Z"
   },
   {
    "duration": 1267,
    "start_time": "2022-05-26T20:27:55.896Z"
   },
   {
    "duration": 449,
    "start_time": "2022-05-26T20:27:57.164Z"
   },
   {
    "duration": 745,
    "start_time": "2022-05-26T20:27:57.614Z"
   },
   {
    "duration": 32,
    "start_time": "2022-05-26T20:27:58.361Z"
   },
   {
    "duration": 13,
    "start_time": "2022-05-26T20:27:58.395Z"
   },
   {
    "duration": 3,
    "start_time": "2022-05-26T20:27:58.410Z"
   },
   {
    "duration": 145,
    "start_time": "2022-05-26T20:27:58.415Z"
   },
   {
    "duration": 0,
    "start_time": "2022-05-26T20:27:58.562Z"
   },
   {
    "duration": 0,
    "start_time": "2022-05-26T20:27:58.563Z"
   },
   {
    "duration": 0,
    "start_time": "2022-05-26T20:27:58.564Z"
   },
   {
    "duration": 0,
    "start_time": "2022-05-26T20:27:58.566Z"
   },
   {
    "duration": 0,
    "start_time": "2022-05-26T20:27:58.567Z"
   },
   {
    "duration": 0,
    "start_time": "2022-05-26T20:27:58.569Z"
   },
   {
    "duration": 0,
    "start_time": "2022-05-26T20:27:58.570Z"
   },
   {
    "duration": 0,
    "start_time": "2022-05-26T20:27:58.571Z"
   },
   {
    "duration": 0,
    "start_time": "2022-05-26T20:27:58.573Z"
   },
   {
    "duration": 0,
    "start_time": "2022-05-26T20:27:58.574Z"
   },
   {
    "duration": 0,
    "start_time": "2022-05-26T20:27:58.575Z"
   },
   {
    "duration": 0,
    "start_time": "2022-05-26T20:27:58.576Z"
   },
   {
    "duration": 36,
    "start_time": "2022-05-26T20:28:51.806Z"
   },
   {
    "duration": 20,
    "start_time": "2022-05-26T20:29:25.595Z"
   },
   {
    "duration": 1976,
    "start_time": "2022-05-26T20:29:30.589Z"
   },
   {
    "duration": 107,
    "start_time": "2022-05-26T20:29:32.567Z"
   },
   {
    "duration": 13,
    "start_time": "2022-05-26T20:29:32.675Z"
   },
   {
    "duration": 10,
    "start_time": "2022-05-26T20:29:32.689Z"
   },
   {
    "duration": 65,
    "start_time": "2022-05-26T20:29:32.701Z"
   },
   {
    "duration": 19,
    "start_time": "2022-05-26T20:29:32.769Z"
   },
   {
    "duration": 70,
    "start_time": "2022-05-26T20:29:32.791Z"
   },
   {
    "duration": 5,
    "start_time": "2022-05-26T20:29:32.863Z"
   },
   {
    "duration": 16,
    "start_time": "2022-05-26T20:29:32.869Z"
   },
   {
    "duration": 423,
    "start_time": "2022-05-26T20:29:32.887Z"
   },
   {
    "duration": 284,
    "start_time": "2022-05-26T20:29:33.312Z"
   },
   {
    "duration": 519,
    "start_time": "2022-05-26T20:29:33.597Z"
   },
   {
    "duration": 387,
    "start_time": "2022-05-26T20:29:34.118Z"
   },
   {
    "duration": 692,
    "start_time": "2022-05-26T20:29:34.507Z"
   },
   {
    "duration": 66,
    "start_time": "2022-05-26T20:29:35.202Z"
   },
   {
    "duration": 16,
    "start_time": "2022-05-26T20:29:35.270Z"
   },
   {
    "duration": 20,
    "start_time": "2022-05-26T20:29:35.288Z"
   },
   {
    "duration": 39,
    "start_time": "2022-05-26T20:29:35.310Z"
   },
   {
    "duration": 341,
    "start_time": "2022-05-26T20:29:35.351Z"
   },
   {
    "duration": 3,
    "start_time": "2022-05-26T20:29:35.693Z"
   },
   {
    "duration": 1386,
    "start_time": "2022-05-26T20:29:35.697Z"
   },
   {
    "duration": 6171,
    "start_time": "2022-05-26T20:29:37.085Z"
   },
   {
    "duration": 3,
    "start_time": "2022-05-26T20:29:43.259Z"
   },
   {
    "duration": 17,
    "start_time": "2022-05-26T20:29:43.264Z"
   },
   {
    "duration": 178,
    "start_time": "2022-05-26T20:29:43.283Z"
   },
   {
    "duration": 7361,
    "start_time": "2022-05-26T20:29:43.463Z"
   },
   {
    "duration": 0,
    "start_time": "2022-05-26T20:29:50.826Z"
   },
   {
    "duration": 0,
    "start_time": "2022-05-26T20:29:50.827Z"
   },
   {
    "duration": 0,
    "start_time": "2022-05-26T20:29:50.828Z"
   },
   {
    "duration": 0,
    "start_time": "2022-05-26T20:29:50.829Z"
   },
   {
    "duration": 1515,
    "start_time": "2022-05-26T20:32:13.069Z"
   },
   {
    "duration": 104,
    "start_time": "2022-05-26T20:32:14.587Z"
   },
   {
    "duration": 67,
    "start_time": "2022-05-26T20:32:14.693Z"
   },
   {
    "duration": 7,
    "start_time": "2022-05-26T20:32:14.763Z"
   },
   {
    "duration": 14,
    "start_time": "2022-05-26T20:32:14.772Z"
   },
   {
    "duration": 18,
    "start_time": "2022-05-26T20:32:14.788Z"
   },
   {
    "duration": 69,
    "start_time": "2022-05-26T20:32:14.808Z"
   },
   {
    "duration": 7,
    "start_time": "2022-05-26T20:32:14.880Z"
   },
   {
    "duration": 12,
    "start_time": "2022-05-26T20:32:14.890Z"
   },
   {
    "duration": 840,
    "start_time": "2022-05-26T20:32:14.960Z"
   },
   {
    "duration": 684,
    "start_time": "2022-05-26T20:32:15.803Z"
   },
   {
    "duration": 533,
    "start_time": "2022-05-26T20:32:16.489Z"
   },
   {
    "duration": 6,
    "start_time": "2022-05-26T20:32:17.024Z"
   },
   {
    "duration": 810,
    "start_time": "2022-05-26T20:32:17.032Z"
   },
   {
    "duration": 68,
    "start_time": "2022-05-26T20:32:17.845Z"
   },
   {
    "duration": 14,
    "start_time": "2022-05-26T20:32:17.916Z"
   },
   {
    "duration": 11,
    "start_time": "2022-05-26T20:32:17.933Z"
   },
   {
    "duration": 57,
    "start_time": "2022-05-26T20:32:17.947Z"
   },
   {
    "duration": 492,
    "start_time": "2022-05-26T20:32:18.006Z"
   },
   {
    "duration": 3,
    "start_time": "2022-05-26T20:32:18.500Z"
   },
   {
    "duration": 1525,
    "start_time": "2022-05-26T20:32:18.504Z"
   },
   {
    "duration": 6899,
    "start_time": "2022-05-26T20:32:20.031Z"
   },
   {
    "duration": 3,
    "start_time": "2022-05-26T20:32:26.932Z"
   },
   {
    "duration": 35,
    "start_time": "2022-05-26T20:32:26.937Z"
   },
   {
    "duration": 88,
    "start_time": "2022-05-26T20:32:26.975Z"
   },
   {
    "duration": 1940,
    "start_time": "2022-05-26T20:32:44.625Z"
   },
   {
    "duration": 92,
    "start_time": "2022-05-26T20:32:46.567Z"
   },
   {
    "duration": 19,
    "start_time": "2022-05-26T20:32:46.662Z"
   },
   {
    "duration": 9,
    "start_time": "2022-05-26T20:32:46.685Z"
   },
   {
    "duration": 66,
    "start_time": "2022-05-26T20:32:46.696Z"
   },
   {
    "duration": 14,
    "start_time": "2022-05-26T20:32:46.763Z"
   },
   {
    "duration": 15,
    "start_time": "2022-05-26T20:32:46.778Z"
   },
   {
    "duration": 7,
    "start_time": "2022-05-26T20:32:46.795Z"
   },
   {
    "duration": 66,
    "start_time": "2022-05-26T20:32:46.804Z"
   },
   {
    "duration": 420,
    "start_time": "2022-05-26T20:32:46.873Z"
   },
   {
    "duration": 600,
    "start_time": "2022-05-26T20:32:47.294Z"
   },
   {
    "duration": 756,
    "start_time": "2022-05-26T20:32:47.895Z"
   },
   {
    "duration": 7,
    "start_time": "2022-05-26T20:32:48.653Z"
   },
   {
    "duration": 733,
    "start_time": "2022-05-26T20:32:48.662Z"
   },
   {
    "duration": 65,
    "start_time": "2022-05-26T20:32:49.398Z"
   },
   {
    "duration": 13,
    "start_time": "2022-05-26T20:32:49.465Z"
   },
   {
    "duration": 8,
    "start_time": "2022-05-26T20:32:49.480Z"
   },
   {
    "duration": 36,
    "start_time": "2022-05-26T20:32:49.489Z"
   },
   {
    "duration": 368,
    "start_time": "2022-05-26T20:32:49.527Z"
   },
   {
    "duration": 4,
    "start_time": "2022-05-26T20:32:49.897Z"
   },
   {
    "duration": 1507,
    "start_time": "2022-05-26T20:32:49.903Z"
   },
   {
    "duration": 6750,
    "start_time": "2022-05-26T20:32:51.412Z"
   },
   {
    "duration": 5,
    "start_time": "2022-05-26T20:32:58.164Z"
   },
   {
    "duration": 93,
    "start_time": "2022-05-26T20:32:58.171Z"
   },
   {
    "duration": 101,
    "start_time": "2022-05-26T20:32:58.266Z"
   },
   {
    "duration": 1267,
    "start_time": "2022-05-26T20:33:44.597Z"
   },
   {
    "duration": 55,
    "start_time": "2022-05-26T20:33:45.870Z"
   },
   {
    "duration": 11,
    "start_time": "2022-05-26T20:33:45.928Z"
   },
   {
    "duration": 9,
    "start_time": "2022-05-26T20:33:45.940Z"
   },
   {
    "duration": 13,
    "start_time": "2022-05-26T20:33:45.950Z"
   },
   {
    "duration": 24,
    "start_time": "2022-05-26T20:33:45.965Z"
   },
   {
    "duration": 14,
    "start_time": "2022-05-26T20:33:45.990Z"
   },
   {
    "duration": 8,
    "start_time": "2022-05-26T20:33:46.005Z"
   },
   {
    "duration": 26,
    "start_time": "2022-05-26T20:33:46.016Z"
   },
   {
    "duration": 225,
    "start_time": "2022-05-26T20:33:46.044Z"
   },
   {
    "duration": 280,
    "start_time": "2022-05-26T20:33:46.276Z"
   },
   {
    "duration": 471,
    "start_time": "2022-05-26T20:33:46.558Z"
   },
   {
    "duration": 398,
    "start_time": "2022-05-26T20:33:47.031Z"
   },
   {
    "duration": 157,
    "start_time": "2022-05-26T20:33:47.431Z"
   },
   {
    "duration": 0,
    "start_time": "2022-05-26T20:33:47.591Z"
   },
   {
    "duration": 1,
    "start_time": "2022-05-26T20:33:47.591Z"
   },
   {
    "duration": 0,
    "start_time": "2022-05-26T20:33:47.593Z"
   },
   {
    "duration": 0,
    "start_time": "2022-05-26T20:33:47.594Z"
   },
   {
    "duration": 0,
    "start_time": "2022-05-26T20:33:47.595Z"
   },
   {
    "duration": 0,
    "start_time": "2022-05-26T20:33:47.597Z"
   },
   {
    "duration": 0,
    "start_time": "2022-05-26T20:33:47.598Z"
   },
   {
    "duration": 0,
    "start_time": "2022-05-26T20:33:47.599Z"
   },
   {
    "duration": 0,
    "start_time": "2022-05-26T20:33:47.600Z"
   },
   {
    "duration": 0,
    "start_time": "2022-05-26T20:33:47.601Z"
   },
   {
    "duration": 0,
    "start_time": "2022-05-26T20:33:47.602Z"
   },
   {
    "duration": 0,
    "start_time": "2022-05-26T20:33:47.603Z"
   },
   {
    "duration": 0,
    "start_time": "2022-05-26T20:33:47.604Z"
   },
   {
    "duration": 0,
    "start_time": "2022-05-26T20:33:47.605Z"
   },
   {
    "duration": 0,
    "start_time": "2022-05-26T20:33:47.607Z"
   },
   {
    "duration": 0,
    "start_time": "2022-05-26T20:33:47.608Z"
   },
   {
    "duration": 1202,
    "start_time": "2022-05-26T20:34:08.696Z"
   },
   {
    "duration": 47,
    "start_time": "2022-05-26T20:34:09.900Z"
   },
   {
    "duration": 11,
    "start_time": "2022-05-26T20:34:09.949Z"
   },
   {
    "duration": 10,
    "start_time": "2022-05-26T20:34:09.962Z"
   },
   {
    "duration": 29,
    "start_time": "2022-05-26T20:34:09.975Z"
   },
   {
    "duration": 17,
    "start_time": "2022-05-26T20:34:10.005Z"
   },
   {
    "duration": 14,
    "start_time": "2022-05-26T20:34:10.023Z"
   },
   {
    "duration": 7,
    "start_time": "2022-05-26T20:34:10.038Z"
   },
   {
    "duration": 15,
    "start_time": "2022-05-26T20:34:10.047Z"
   },
   {
    "duration": 229,
    "start_time": "2022-05-26T20:34:10.064Z"
   },
   {
    "duration": 285,
    "start_time": "2022-05-26T20:34:10.295Z"
   },
   {
    "duration": 449,
    "start_time": "2022-05-26T20:34:10.582Z"
   },
   {
    "duration": 379,
    "start_time": "2022-05-26T20:34:11.032Z"
   },
   {
    "duration": 148,
    "start_time": "2022-05-26T20:34:11.414Z"
   },
   {
    "duration": 1,
    "start_time": "2022-05-26T20:34:11.563Z"
   },
   {
    "duration": 0,
    "start_time": "2022-05-26T20:34:11.566Z"
   },
   {
    "duration": 0,
    "start_time": "2022-05-26T20:34:11.567Z"
   },
   {
    "duration": 0,
    "start_time": "2022-05-26T20:34:11.568Z"
   },
   {
    "duration": 0,
    "start_time": "2022-05-26T20:34:11.570Z"
   },
   {
    "duration": 0,
    "start_time": "2022-05-26T20:34:11.575Z"
   },
   {
    "duration": 1,
    "start_time": "2022-05-26T20:34:11.575Z"
   },
   {
    "duration": 0,
    "start_time": "2022-05-26T20:34:11.576Z"
   },
   {
    "duration": 0,
    "start_time": "2022-05-26T20:34:11.577Z"
   },
   {
    "duration": 0,
    "start_time": "2022-05-26T20:34:11.578Z"
   },
   {
    "duration": 0,
    "start_time": "2022-05-26T20:34:11.581Z"
   },
   {
    "duration": 0,
    "start_time": "2022-05-26T20:34:11.582Z"
   },
   {
    "duration": 0,
    "start_time": "2022-05-26T20:34:11.582Z"
   },
   {
    "duration": 0,
    "start_time": "2022-05-26T20:34:11.583Z"
   },
   {
    "duration": 0,
    "start_time": "2022-05-26T20:34:11.584Z"
   },
   {
    "duration": 0,
    "start_time": "2022-05-26T20:34:11.585Z"
   },
   {
    "duration": 1386,
    "start_time": "2022-05-26T20:34:39.609Z"
   },
   {
    "duration": 52,
    "start_time": "2022-05-26T20:34:40.997Z"
   },
   {
    "duration": 17,
    "start_time": "2022-05-26T20:34:41.050Z"
   },
   {
    "duration": 26,
    "start_time": "2022-05-26T20:34:41.071Z"
   },
   {
    "duration": 18,
    "start_time": "2022-05-26T20:34:41.099Z"
   },
   {
    "duration": 13,
    "start_time": "2022-05-26T20:34:41.118Z"
   },
   {
    "duration": 15,
    "start_time": "2022-05-26T20:34:41.133Z"
   },
   {
    "duration": 8,
    "start_time": "2022-05-26T20:34:41.150Z"
   },
   {
    "duration": 35,
    "start_time": "2022-05-26T20:34:41.162Z"
   },
   {
    "duration": 249,
    "start_time": "2022-05-26T20:34:41.200Z"
   },
   {
    "duration": 364,
    "start_time": "2022-05-26T20:34:41.451Z"
   },
   {
    "duration": 561,
    "start_time": "2022-05-26T20:34:41.817Z"
   },
   {
    "duration": 449,
    "start_time": "2022-05-26T20:34:42.380Z"
   },
   {
    "duration": 826,
    "start_time": "2022-05-26T20:34:42.831Z"
   },
   {
    "duration": 58,
    "start_time": "2022-05-26T20:34:43.662Z"
   },
   {
    "duration": 11,
    "start_time": "2022-05-26T20:34:43.721Z"
   },
   {
    "duration": 3,
    "start_time": "2022-05-26T20:34:43.734Z"
   },
   {
    "duration": 70,
    "start_time": "2022-05-26T20:34:43.738Z"
   },
   {
    "duration": 518,
    "start_time": "2022-05-26T20:34:43.809Z"
   },
   {
    "duration": 2,
    "start_time": "2022-05-26T20:34:44.329Z"
   },
   {
    "duration": 3238,
    "start_time": "2022-05-26T20:34:44.333Z"
   },
   {
    "duration": 9016,
    "start_time": "2022-05-26T20:34:47.573Z"
   },
   {
    "duration": 3,
    "start_time": "2022-05-26T20:34:56.590Z"
   },
   {
    "duration": 181,
    "start_time": "2022-05-26T20:34:56.595Z"
   },
   {
    "duration": 5,
    "start_time": "2022-05-26T20:34:56.780Z"
   },
   {
    "duration": 200835,
    "start_time": "2022-05-26T20:34:56.786Z"
   },
   {
    "duration": 0,
    "start_time": "2022-05-26T20:38:17.622Z"
   },
   {
    "duration": 0,
    "start_time": "2022-05-26T20:38:17.624Z"
   },
   {
    "duration": 0,
    "start_time": "2022-05-26T20:38:17.625Z"
   },
   {
    "duration": 0,
    "start_time": "2022-05-26T20:38:17.628Z"
   },
   {
    "duration": 4,
    "start_time": "2022-05-26T20:38:24.146Z"
   },
   {
    "duration": 57,
    "start_time": "2022-05-26T20:38:24.152Z"
   },
   {
    "duration": 13,
    "start_time": "2022-05-26T20:38:24.211Z"
   },
   {
    "duration": 10,
    "start_time": "2022-05-26T20:38:24.227Z"
   },
   {
    "duration": 12,
    "start_time": "2022-05-26T20:38:24.239Z"
   },
   {
    "duration": 18,
    "start_time": "2022-05-26T20:38:24.252Z"
   },
   {
    "duration": 17,
    "start_time": "2022-05-26T20:38:24.272Z"
   },
   {
    "duration": 4,
    "start_time": "2022-05-26T20:38:24.291Z"
   },
   {
    "duration": 17,
    "start_time": "2022-05-26T20:38:24.296Z"
   },
   {
    "duration": 239,
    "start_time": "2022-05-26T20:38:24.316Z"
   },
   {
    "duration": 307,
    "start_time": "2022-05-26T20:38:24.559Z"
   },
   {
    "duration": 570,
    "start_time": "2022-05-26T20:38:24.868Z"
   },
   {
    "duration": 307,
    "start_time": "2022-05-26T20:38:25.440Z"
   },
   {
    "duration": 815,
    "start_time": "2022-05-26T20:38:25.749Z"
   },
   {
    "duration": 630,
    "start_time": "2022-05-26T20:38:38.694Z"
   },
   {
    "duration": 16,
    "start_time": "2022-05-26T20:38:54.980Z"
   },
   {
    "duration": 20,
    "start_time": "2022-05-26T20:39:07.447Z"
   },
   {
    "duration": 4,
    "start_time": "2022-05-26T20:39:14.984Z"
   },
   {
    "duration": 59,
    "start_time": "2022-05-26T20:39:14.991Z"
   },
   {
    "duration": 10,
    "start_time": "2022-05-26T20:39:15.052Z"
   },
   {
    "duration": 108,
    "start_time": "2022-05-26T20:39:15.064Z"
   },
   {
    "duration": 11,
    "start_time": "2022-05-26T20:39:15.174Z"
   },
   {
    "duration": 11,
    "start_time": "2022-05-26T20:39:15.187Z"
   },
   {
    "duration": 13,
    "start_time": "2022-05-26T20:39:15.199Z"
   },
   {
    "duration": 3,
    "start_time": "2022-05-26T20:39:15.213Z"
   },
   {
    "duration": 7,
    "start_time": "2022-05-26T20:39:15.218Z"
   },
   {
    "duration": 208,
    "start_time": "2022-05-26T20:39:15.227Z"
   },
   {
    "duration": 255,
    "start_time": "2022-05-26T20:39:15.436Z"
   },
   {
    "duration": 427,
    "start_time": "2022-05-26T20:39:15.692Z"
   },
   {
    "duration": 251,
    "start_time": "2022-05-26T20:39:16.120Z"
   },
   {
    "duration": 729,
    "start_time": "2022-05-26T20:39:16.373Z"
   },
   {
    "duration": 17,
    "start_time": "2022-05-26T20:39:17.104Z"
   },
   {
    "duration": 573,
    "start_time": "2022-05-26T20:39:29.312Z"
   },
   {
    "duration": 1240,
    "start_time": "2022-05-26T20:40:05.965Z"
   },
   {
    "duration": 49,
    "start_time": "2022-05-26T20:40:07.206Z"
   },
   {
    "duration": 11,
    "start_time": "2022-05-26T20:40:07.256Z"
   },
   {
    "duration": 9,
    "start_time": "2022-05-26T20:40:07.269Z"
   },
   {
    "duration": 13,
    "start_time": "2022-05-26T20:40:07.279Z"
   },
   {
    "duration": 11,
    "start_time": "2022-05-26T20:40:07.293Z"
   },
   {
    "duration": 21,
    "start_time": "2022-05-26T20:40:07.305Z"
   },
   {
    "duration": 10,
    "start_time": "2022-05-26T20:40:07.327Z"
   },
   {
    "duration": 22,
    "start_time": "2022-05-26T20:40:07.339Z"
   },
   {
    "duration": 214,
    "start_time": "2022-05-26T20:40:07.364Z"
   },
   {
    "duration": 316,
    "start_time": "2022-05-26T20:40:07.580Z"
   },
   {
    "duration": 490,
    "start_time": "2022-05-26T20:40:07.898Z"
   },
   {
    "duration": 406,
    "start_time": "2022-05-26T20:40:08.389Z"
   },
   {
    "duration": 707,
    "start_time": "2022-05-26T20:40:08.797Z"
   },
   {
    "duration": 54,
    "start_time": "2022-05-26T20:40:09.505Z"
   },
   {
    "duration": 10,
    "start_time": "2022-05-26T20:40:09.561Z"
   },
   {
    "duration": 10,
    "start_time": "2022-05-26T20:40:09.573Z"
   },
   {
    "duration": 53,
    "start_time": "2022-05-26T20:40:09.584Z"
   },
   {
    "duration": 455,
    "start_time": "2022-05-26T20:40:09.638Z"
   },
   {
    "duration": 2,
    "start_time": "2022-05-26T20:40:10.095Z"
   },
   {
    "duration": 1894,
    "start_time": "2022-05-26T20:40:10.099Z"
   },
   {
    "duration": 7610,
    "start_time": "2022-05-26T20:40:11.995Z"
   },
   {
    "duration": 3,
    "start_time": "2022-05-26T20:40:19.606Z"
   },
   {
    "duration": 158,
    "start_time": "2022-05-26T20:40:19.611Z"
   },
   {
    "duration": 13,
    "start_time": "2022-05-26T20:40:19.860Z"
   },
   {
    "duration": 90558,
    "start_time": "2022-05-26T20:40:19.874Z"
   },
   {
    "duration": 0,
    "start_time": "2022-05-26T20:41:50.434Z"
   },
   {
    "duration": 0,
    "start_time": "2022-05-26T20:41:50.435Z"
   },
   {
    "duration": 0,
    "start_time": "2022-05-26T20:41:50.436Z"
   },
   {
    "duration": 0,
    "start_time": "2022-05-26T20:41:50.437Z"
   },
   {
    "duration": 9,
    "start_time": "2022-05-26T20:41:50.575Z"
   },
   {
    "duration": 117,
    "start_time": "2022-05-26T20:42:08.975Z"
   },
   {
    "duration": 12,
    "start_time": "2022-05-26T20:44:37.320Z"
   },
   {
    "duration": 10,
    "start_time": "2022-05-26T20:44:52.156Z"
   },
   {
    "duration": 3,
    "start_time": "2022-05-26T20:45:01.277Z"
   },
   {
    "duration": 33,
    "start_time": "2022-05-26T20:45:10.083Z"
   },
   {
    "duration": 199,
    "start_time": "2022-05-26T20:45:10.873Z"
   },
   {
    "duration": 145,
    "start_time": "2022-05-26T20:46:30.474Z"
   },
   {
    "duration": 143,
    "start_time": "2022-05-26T20:58:23.495Z"
   },
   {
    "duration": 151,
    "start_time": "2022-05-26T20:58:35.336Z"
   },
   {
    "duration": 171,
    "start_time": "2022-05-26T21:12:08.053Z"
   },
   {
    "duration": 206,
    "start_time": "2022-05-26T21:17:33.386Z"
   },
   {
    "duration": 160,
    "start_time": "2022-05-26T21:17:39.982Z"
   },
   {
    "duration": 161,
    "start_time": "2022-05-26T21:18:03.907Z"
   },
   {
    "duration": 435,
    "start_time": "2022-05-26T21:18:21.224Z"
   },
   {
    "duration": 224,
    "start_time": "2022-05-26T21:18:39.400Z"
   },
   {
    "duration": 219,
    "start_time": "2022-05-26T21:19:39.588Z"
   },
   {
    "duration": 213,
    "start_time": "2022-05-26T21:20:16.229Z"
   },
   {
    "duration": 43,
    "start_time": "2022-05-26T21:22:18.594Z"
   },
   {
    "duration": 2,
    "start_time": "2022-05-26T21:22:19.691Z"
   },
   {
    "duration": 233,
    "start_time": "2022-05-26T21:22:38.333Z"
   },
   {
    "duration": 209,
    "start_time": "2022-05-26T21:24:34.859Z"
   },
   {
    "duration": 3,
    "start_time": "2022-05-26T21:24:37.488Z"
   },
   {
    "duration": 217,
    "start_time": "2022-05-26T21:24:41.408Z"
   },
   {
    "duration": 84,
    "start_time": "2022-05-26T21:25:26.379Z"
   },
   {
    "duration": 3,
    "start_time": "2022-05-26T21:25:27.482Z"
   },
   {
    "duration": 254,
    "start_time": "2022-05-26T21:25:28.129Z"
   },
   {
    "duration": 1230,
    "start_time": "2022-05-26T21:26:18.390Z"
   },
   {
    "duration": 56,
    "start_time": "2022-05-26T21:26:19.622Z"
   },
   {
    "duration": 15,
    "start_time": "2022-05-26T21:26:19.679Z"
   },
   {
    "duration": 8,
    "start_time": "2022-05-26T21:26:19.696Z"
   },
   {
    "duration": 10,
    "start_time": "2022-05-26T21:26:19.706Z"
   },
   {
    "duration": 10,
    "start_time": "2022-05-26T21:26:19.717Z"
   },
   {
    "duration": 13,
    "start_time": "2022-05-26T21:26:19.728Z"
   },
   {
    "duration": 9,
    "start_time": "2022-05-26T21:26:19.759Z"
   },
   {
    "duration": 30,
    "start_time": "2022-05-26T21:26:19.770Z"
   },
   {
    "duration": 219,
    "start_time": "2022-05-26T21:26:19.802Z"
   },
   {
    "duration": 280,
    "start_time": "2022-05-26T21:26:20.022Z"
   },
   {
    "duration": 494,
    "start_time": "2022-05-26T21:26:20.304Z"
   },
   {
    "duration": 373,
    "start_time": "2022-05-26T21:26:20.799Z"
   },
   {
    "duration": 718,
    "start_time": "2022-05-26T21:26:21.175Z"
   },
   {
    "duration": 49,
    "start_time": "2022-05-26T21:26:21.895Z"
   },
   {
    "duration": 20,
    "start_time": "2022-05-26T21:26:21.945Z"
   },
   {
    "duration": 31,
    "start_time": "2022-05-26T21:26:21.976Z"
   },
   {
    "duration": 63,
    "start_time": "2022-05-26T21:26:22.009Z"
   },
   {
    "duration": 443,
    "start_time": "2022-05-26T21:26:22.081Z"
   },
   {
    "duration": 45,
    "start_time": "2022-05-26T21:26:22.526Z"
   },
   {
    "duration": 4,
    "start_time": "2022-05-26T21:26:22.572Z"
   },
   {
    "duration": 230,
    "start_time": "2022-05-26T21:26:22.577Z"
   },
   {
    "duration": 1870,
    "start_time": "2022-05-26T21:26:22.809Z"
   },
   {
    "duration": 8434,
    "start_time": "2022-05-26T21:26:24.690Z"
   },
   {
    "duration": 213,
    "start_time": "2022-05-26T21:26:33.126Z"
   },
   {
    "duration": 3,
    "start_time": "2022-05-26T21:26:33.341Z"
   },
   {
    "duration": 257,
    "start_time": "2022-05-26T21:26:33.345Z"
   },
   {
    "duration": 65,
    "start_time": "2022-05-26T21:26:33.604Z"
   },
   {
    "duration": 9,
    "start_time": "2022-05-26T21:26:33.671Z"
   },
   {
    "duration": 401,
    "start_time": "2022-05-26T21:26:33.683Z"
   },
   {
    "duration": 268989,
    "start_time": "2022-05-26T21:26:34.085Z"
   },
   {
    "duration": 4,
    "start_time": "2022-05-26T21:31:03.076Z"
   },
   {
    "duration": 264,
    "start_time": "2022-05-26T21:31:03.084Z"
   },
   {
    "duration": 16,
    "start_time": "2022-05-26T21:31:03.350Z"
   },
   {
    "duration": 22,
    "start_time": "2022-05-26T21:31:03.369Z"
   },
   {
    "duration": 8,
    "start_time": "2022-05-26T21:31:03.392Z"
   },
   {
    "duration": 1931,
    "start_time": "2022-05-27T05:42:15.851Z"
   },
   {
    "duration": 147,
    "start_time": "2022-05-27T05:42:17.783Z"
   },
   {
    "duration": 10,
    "start_time": "2022-05-27T05:42:17.932Z"
   },
   {
    "duration": 9,
    "start_time": "2022-05-27T05:42:17.944Z"
   },
   {
    "duration": 15,
    "start_time": "2022-05-27T05:42:17.955Z"
   },
   {
    "duration": 12,
    "start_time": "2022-05-27T05:42:17.972Z"
   },
   {
    "duration": 16,
    "start_time": "2022-05-27T05:42:17.986Z"
   },
   {
    "duration": 4,
    "start_time": "2022-05-27T05:42:18.003Z"
   },
   {
    "duration": 11,
    "start_time": "2022-05-27T05:42:18.008Z"
   },
   {
    "duration": 232,
    "start_time": "2022-05-27T05:42:18.541Z"
   },
   {
    "duration": 282,
    "start_time": "2022-05-27T05:42:19.017Z"
   },
   {
    "duration": 505,
    "start_time": "2022-05-27T05:42:19.350Z"
   },
   {
    "duration": 365,
    "start_time": "2022-05-27T05:42:19.857Z"
   },
   {
    "duration": 638,
    "start_time": "2022-05-27T05:42:20.639Z"
   },
   {
    "duration": 38,
    "start_time": "2022-05-27T05:42:21.279Z"
   },
   {
    "duration": 11,
    "start_time": "2022-05-27T05:42:29.605Z"
   },
   {
    "duration": 3,
    "start_time": "2022-05-27T05:42:30.145Z"
   },
   {
    "duration": 37,
    "start_time": "2022-05-27T05:42:31.174Z"
   },
   {
    "duration": 394,
    "start_time": "2022-05-27T05:42:31.363Z"
   },
   {
    "duration": 15,
    "start_time": "2022-05-27T05:42:32.675Z"
   },
   {
    "duration": 3,
    "start_time": "2022-05-27T05:42:33.304Z"
   },
   {
    "duration": 208,
    "start_time": "2022-05-27T05:42:33.968Z"
   },
   {
    "duration": 1915,
    "start_time": "2022-05-27T05:42:35.493Z"
   },
   {
    "duration": 8441,
    "start_time": "2022-05-27T05:42:37.410Z"
   },
   {
    "duration": 938,
    "start_time": "2022-05-27T05:42:45.853Z"
   },
   {
    "duration": 3,
    "start_time": "2022-05-27T05:42:46.794Z"
   },
   {
    "duration": 237,
    "start_time": "2022-05-27T05:42:46.798Z"
   },
   {
    "duration": 62,
    "start_time": "2022-05-27T05:42:47.037Z"
   },
   {
    "duration": 97,
    "start_time": "2022-05-27T05:42:47.102Z"
   },
   {
    "duration": 323,
    "start_time": "2022-05-27T05:42:47.203Z"
   },
   {
    "duration": 977,
    "start_time": "2022-05-27T05:42:47.529Z"
   },
   {
    "duration": 3,
    "start_time": "2022-05-27T05:42:48.508Z"
   },
   {
    "duration": 299,
    "start_time": "2022-05-27T05:42:48.513Z"
   },
   {
    "duration": 5,
    "start_time": "2022-05-27T05:42:48.815Z"
   },
   {
    "duration": 15,
    "start_time": "2022-05-27T05:42:48.822Z"
   },
   {
    "duration": 10,
    "start_time": "2022-05-27T05:42:48.838Z"
   }
  ],
  "kernelspec": {
   "display_name": "Python 3 (ipykernel)",
   "language": "python",
   "name": "python3"
  },
  "language_info": {
   "codemirror_mode": {
    "name": "ipython",
    "version": 3
   },
   "file_extension": ".py",
   "mimetype": "text/x-python",
   "name": "python",
   "nbconvert_exporter": "python",
   "pygments_lexer": "ipython3",
   "version": "3.9.5"
  },
  "toc": {
   "base_numbering": 1,
   "nav_menu": {},
   "number_sections": true,
   "sideBar": true,
   "skip_h1_title": true,
   "title_cell": "Содержание",
   "title_sidebar": "Contents",
   "toc_cell": true,
   "toc_position": {
    "height": "calc(100% - 180px)",
    "left": "10px",
    "top": "150px",
    "width": "318.398px"
   },
   "toc_section_display": true,
   "toc_window_display": true
  }
 },
 "nbformat": 4,
 "nbformat_minor": 2
}
